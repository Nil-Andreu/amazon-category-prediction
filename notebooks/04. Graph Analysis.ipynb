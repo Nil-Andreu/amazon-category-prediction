{
 "cells": [
  {
   "cell_type": "code",
   "execution_count": 1,
   "id": "62dff7fd",
   "metadata": {},
   "outputs": [],
   "source": [
    "import os\n",
    "import re\n",
    "import json\n",
    "import gzip\n",
    "import typing\n",
    "import pandas as pd\n",
    "import seaborn as sns\n",
    "import matplotlib.pyplot as plt"
   ]
  },
  {
   "cell_type": "code",
   "execution_count": 3,
   "id": "d3437e88",
   "metadata": {},
   "outputs": [],
   "source": [
    "import sys\n",
    "sys.path.append('../')\n",
    "\n",
    "from shared.utils.common import get_list_from_text_tuple, rotate_labels\n",
    "from shared.model.data.features.engineering.recommendation import Recommendation"
   ]
  },
  {
   "cell_type": "markdown",
   "id": "5f97a1a3",
   "metadata": {},
   "source": [
    "## Loading Data"
   ]
  },
  {
   "cell_type": "code",
   "execution_count": null,
   "id": "054a5249",
   "metadata": {},
   "outputs": [],
   "source": [
    "df = pd.read_csv(\n",
    "    '../shared/data/amz_products_small_pre_processed.csv.gz', \n",
    "    compression='gzip'\n",
    ")"
   ]
  },
  {
   "cell_type": "markdown",
   "id": "e43420f7",
   "metadata": {},
   "source": [
    "## Graph Analysis"
   ]
  },
  {
   "cell_type": "markdown",
   "id": "46c6cecb",
   "metadata": {},
   "source": [
    "#### Which are the categories of the recommended products?"
   ]
  },
  {
   "cell_type": "markdown",
   "id": "173dd4b7",
   "metadata": {},
   "source": [
    "We could consider to which degree each category is recommended between them."
   ]
  },
  {
   "cell_type": "code",
   "execution_count": null,
   "id": "7cbcdb21",
   "metadata": {},
   "outputs": [],
   "source": [
    "df.also_buy.isnull().sum()"
   ]
  },
  {
   "cell_type": "code",
   "execution_count": null,
   "id": "40884c12",
   "metadata": {},
   "outputs": [],
   "source": [
    "df = df.set_index('asin')"
   ]
  },
  {
   "cell_type": "code",
   "execution_count": null,
   "id": "b13142bd",
   "metadata": {},
   "outputs": [],
   "source": [
    "df.head()"
   ]
  },
  {
   "cell_type": "code",
   "execution_count": null,
   "id": "40b58dc4",
   "metadata": {},
   "outputs": [],
   "source": [
    "also_view_not_null = df[~df.also_view.isnull()]\n",
    "also_view_not_null.head()"
   ]
  },
  {
   "cell_type": "code",
   "execution_count": null,
   "id": "d5663393",
   "metadata": {},
   "outputs": [],
   "source": [
    "also_view_value = also_view_not_null.also_view.values[0]\n",
    "also_view_value"
   ]
  },
  {
   "cell_type": "code",
   "execution_count": null,
   "id": "16e3d73c",
   "metadata": {},
   "outputs": [],
   "source": [
    "also_view_value_processed = get_list_from_text_tuple(also_view_value)"
   ]
  },
  {
   "cell_type": "code",
   "execution_count": null,
   "id": "028f097e",
   "metadata": {},
   "outputs": [],
   "source": [
    "# So there are some products recommended for which we can't find its features\n",
    "df[df.index.values == also_view_value_processed[0]]"
   ]
  },
  {
   "cell_type": "code",
   "execution_count": null,
   "id": "02956027",
   "metadata": {},
   "outputs": [],
   "source": [
    "df.reset_index().asin.isin(also_view_value_processed).sum()"
   ]
  },
  {
   "cell_type": "markdown",
   "id": "3da6b04d",
   "metadata": {},
   "source": [
    "Maybe it was bad luck, will test for other products recommendations."
   ]
  },
  {
   "cell_type": "code",
   "execution_count": null,
   "id": "d5cdaa16",
   "metadata": {},
   "outputs": [],
   "source": [
    "found, total = 0, 0\n",
    "\n",
    "for idx in range(1, 40):\n",
    "    also_view_value = also_view_not_null.also_view.values[idx]\n",
    "    also_view_value_processed = get_list_from_text_tuple(also_view_value)\n",
    "    summed = df.reset_index().asin.isin(also_view_value_processed).sum()\n",
    "    if summed > 0:\n",
    "        print(idx, ': ', round((summed / len(also_view_value_processed))*100, 2))\n",
    "\n",
    "    found += summed\n",
    "    total += len(also_view_value_processed)\n",
    "\n",
    "(found / total)*100"
   ]
  },
  {
   "cell_type": "markdown",
   "id": "fa3e27ce",
   "metadata": {},
   "source": [
    "We can see that the vast majority of those recommended products are not in our database (only **~5%** can be found).\n",
    "\n",
    "Will see how is with the also_buy column."
   ]
  },
  {
   "cell_type": "code",
   "execution_count": null,
   "id": "ff4c91ed",
   "metadata": {},
   "outputs": [],
   "source": [
    "also_buy_not_null = df[~df.also_buy.isnull()]"
   ]
  },
  {
   "cell_type": "code",
   "execution_count": null,
   "id": "cf641343",
   "metadata": {},
   "outputs": [],
   "source": [
    "found, total = 0, 0\n",
    "\n",
    "for idx in range(1, 40):\n",
    "    also_buy_value = also_buy_not_null.also_buy.values[idx]\n",
    "    also_buy_value_processed = get_list_from_text_tuple(also_buy_value)\n",
    "    summed = df.reset_index().asin.isin(also_buy_value_processed).sum()\n",
    "    if summed > 0:\n",
    "        print(idx, ': ', round((summed / len(also_view_value_processed))*100, 2))\n",
    "    \n",
    "    found += summed\n",
    "    total += len(also_view_value_processed)\n",
    "\n",
    "(found / total)*100"
   ]
  },
  {
   "cell_type": "markdown",
   "id": "cc137567",
   "metadata": {},
   "source": [
    "In this case, it happens the same (we can only identify **~4%** of the recommended products)."
   ]
  },
  {
   "cell_type": "markdown",
   "id": "4a130589",
   "metadata": {},
   "source": [
    "So I believe we do not have enough data to be able to answer the initial question. "
   ]
  },
  {
   "cell_type": "markdown",
   "id": "a916af2c",
   "metadata": {},
   "source": [
    "#### Could be relationship between amount of products recommended and category?"
   ]
  },
  {
   "cell_type": "code",
   "execution_count": null,
   "id": "e74e5ec4",
   "metadata": {},
   "outputs": [],
   "source": [
    "df_small = df[\n",
    "    ['also_buy', 'also_view', 'main_cat']\n",
    "].fillna('').sample(frac=0.1)   # no need to use all -> save computing power and might be good enough approximation\n",
    "df_small.head()"
   ]
  },
  {
   "cell_type": "code",
   "execution_count": null,
   "id": "edf192e7",
   "metadata": {},
   "outputs": [],
   "source": [
    "from tqdm import tqdm\n",
    "\n",
    "with tqdm(total=len(df_small)) as pbar:\n",
    "    for idx, row in df_small.iterrows():\n",
    "        also_buy_list = get_list_from_text_tuple(row['also_buy']) if row['also_buy'] else ''\n",
    "        also_view_list = get_list_from_text_tuple(row['also_view']) if row['also_view'] else ''\n",
    "\n",
    "        df_small.loc[idx, 'also_buy_count'] = len(also_buy_list)\n",
    "        df_small.loc[idx, 'also_view_count'] = len(also_view_list)\n",
    "\n",
    "        pbar.update(1)\n",
    "\n",
    "df_small.also_buy_count = df_small.also_buy_count.astype('int')\n",
    "df_small.also_view_count = df_small.also_view_count.astype('int')"
   ]
  },
  {
   "cell_type": "code",
   "execution_count": null,
   "id": "fd6bc800",
   "metadata": {},
   "outputs": [],
   "source": [
    "chart = sns.boxplot(data=df_small, x='main_cat', y='also_buy_count')\n",
    "rotate_labels(chart)\n",
    "plt.ylim(0, 20)"
   ]
  },
  {
   "cell_type": "code",
   "execution_count": null,
   "id": "32927021",
   "metadata": {},
   "outputs": [],
   "source": [
    "chart = sns.boxplot(data=df_small, x='main_cat', y='also_view_count')\n",
    "rotate_labels(chart)\n",
    "plt.ylim(0, 20)"
   ]
  },
  {
   "cell_type": "markdown",
   "id": "5cc9ace7",
   "metadata": {},
   "source": [
    "So we can see that for some categories there is a tendency to have more recommended products than in other categories.\n",
    "\n",
    "We can validate this by creating ANOVA test."
   ]
  },
  {
   "cell_type": "code",
   "execution_count": null,
   "id": "a00a16b2",
   "metadata": {},
   "outputs": [],
   "source": [
    "import statsmodels.api as sm\n",
    "from statsmodels.formula.api import ols\n",
    "\n",
    "# Define the ANOVA model\n",
    "model = ols('also_view_count ~ main_cat', data=df_small).fit()\n",
    "\n",
    "# Perform ANOVA test\n",
    "anova_table = sm.stats.anova_lm(model, typ=2)\n",
    "\n",
    "# Print the anova table\n",
    "print(anova_table)"
   ]
  },
  {
   "cell_type": "code",
   "execution_count": null,
   "id": "ae761caf",
   "metadata": {},
   "outputs": [],
   "source": [
    "import statsmodels.api as sm\n",
    "from statsmodels.formula.api import ols\n",
    "\n",
    "# Define the ANOVA model\n",
    "model = ols('also_buy_count ~ main_cat', data=df_small).fit()\n",
    "\n",
    "# Perform ANOVA test\n",
    "anova_table = sm.stats.anova_lm(model, typ=2)\n",
    "\n",
    "# Print the anova table\n",
    "print(anova_table)"
   ]
  },
  {
   "cell_type": "markdown",
   "id": "edc6ec35",
   "metadata": {},
   "source": [
    "A feature for the final model could be the amount of items recommended to view and buy (integer)."
   ]
  },
  {
   "cell_type": "code",
   "execution_count": null,
   "id": "77cf286b",
   "metadata": {},
   "outputs": [],
   "source": [
    "df_small.describe()"
   ]
  },
  {
   "cell_type": "code",
   "execution_count": null,
   "id": "0404db36",
   "metadata": {},
   "outputs": [],
   "source": [
    "min_also = .0\n",
    "max_also_buy_count = df_small.also_buy_count.quantile(.95)\n",
    "max_also_view_count = df_small.also_view_count.quantile(.95)\n",
    "print(max_also_buy_count, max_also_view_count)"
   ]
  },
  {
   "cell_type": "markdown",
   "id": "3ac251d9",
   "metadata": {},
   "source": [
    "We will limit the minmax scaler to those values, to handle also the outliers somehow."
   ]
  },
  {
   "cell_type": "code",
   "execution_count": null,
   "id": "a2c7594a",
   "metadata": {},
   "outputs": [],
   "source": [
    "also_buy_recommendation = Recommendation(max_value=59)"
   ]
  },
  {
   "cell_type": "code",
   "execution_count": null,
   "id": "50628a23",
   "metadata": {},
   "outputs": [],
   "source": [
    "df_small.head(20)"
   ]
  },
  {
   "cell_type": "code",
   "execution_count": null,
   "id": "fc510de4",
   "metadata": {},
   "outputs": [],
   "source": [
    "also_view_example_value = df_small.also_view.values[16]\n",
    "also_view_example_value"
   ]
  },
  {
   "cell_type": "code",
   "execution_count": null,
   "id": "0f5c58b9",
   "metadata": {},
   "outputs": [],
   "source": [
    "also_buy_recommendation.get_feature(also_view_example_value)"
   ]
  }
 ],
 "metadata": {
  "kernelspec": {
   "display_name": "Python 3 (ipykernel)",
   "language": "python",
   "name": "python3"
  },
  "language_info": {
   "codemirror_mode": {
    "name": "ipython",
    "version": 3
   },
   "file_extension": ".py",
   "mimetype": "text/x-python",
   "name": "python",
   "nbconvert_exporter": "python",
   "pygments_lexer": "ipython3",
   "version": "3.9.12"
  }
 },
 "nbformat": 4,
 "nbformat_minor": 5
}
