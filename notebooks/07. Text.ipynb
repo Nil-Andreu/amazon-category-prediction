{
 "cells": [
  {
   "cell_type": "code",
   "execution_count": 1,
   "id": "6aae0e53",
   "metadata": {},
   "outputs": [],
   "source": [
    "import nltk\n",
    "import numpy as np\n",
    "import pandas as pd\n",
    "import seaborn as sns\n",
    "import matplotlib.pyplot as plt\n",
    "\n",
    "from tqdm import tqdm"
   ]
  },
  {
   "cell_type": "code",
   "execution_count": 2,
   "id": "3bdfff95",
   "metadata": {},
   "outputs": [],
   "source": [
    "import sys\n",
    "sys.path.append('../')"
   ]
  },
  {
   "cell_type": "code",
   "execution_count": 3,
   "id": "885295e5",
   "metadata": {},
   "outputs": [],
   "source": [
    "from shared.utils.re_utils import remove_parentheses, remove_apostrophes\n",
    "\n",
    "from shared.utils.processing.embedding.text import TextGroupProcessing"
   ]
  },
  {
   "cell_type": "markdown",
   "id": "c26bef4c",
   "metadata": {},
   "source": [
    "## Loading Data"
   ]
  },
  {
   "cell_type": "code",
   "execution_count": 4,
   "id": "f7df5b34",
   "metadata": {},
   "outputs": [],
   "source": [
    "df = pd.read_csv(\n",
    "    '../shared/data/amz_products_small_pre_processed.csv.gz', \n",
    "    compression='gzip'\n",
    ")"
   ]
  },
  {
   "cell_type": "markdown",
   "id": "f1d29e53",
   "metadata": {},
   "source": [
    "## Text Exploration\n",
    "\n",
    "We can explore a bit which are the results we would get after processing text (description, title & features)."
   ]
  },
  {
   "cell_type": "markdown",
   "id": "3d80ea57",
   "metadata": {},
   "source": [
    "### Description"
   ]
  },
  {
   "cell_type": "markdown",
   "id": "9d4f87b7",
   "metadata": {},
   "source": [
    "We could try to watch some descriptions and how we can convert them into tokens."
   ]
  },
  {
   "cell_type": "code",
   "execution_count": 5,
   "id": "f660060d",
   "metadata": {},
   "outputs": [],
   "source": [
    "description_values = df.description.values"
   ]
  },
  {
   "cell_type": "code",
   "execution_count": 6,
   "id": "333eb848",
   "metadata": {},
   "outputs": [
    {
     "name": "stdout",
     "output_type": "stream",
     "text": [
      "17\n",
      "30\n",
      "35\n",
      "51\n",
      "53\n",
      "55\n",
      "59\n",
      "74\n",
      "75\n",
      "77\n",
      "86\n",
      "95\n",
      "122\n",
      "131\n",
      "142\n"
     ]
    }
   ],
   "source": [
    "for idx in range(150):\n",
    "    value = remove_parentheses(description_values[idx])\n",
    "    value = remove_apostrophes(value)\n",
    "    value = value.split('.,')\n",
    "    value = [v.strip() for v in value]\n",
    "    if len(value) > 1 and value[1]:\n",
    "        print(idx)"
   ]
  },
  {
   "cell_type": "code",
   "execution_count": 7,
   "id": "e6d84c40",
   "metadata": {},
   "outputs": [
    {
     "data": {
      "text/plain": [
       "'(\\'The Walker Mega-Clamp combines state-of-the-art Walker engineering with quality manufacturing. Available in a wide range of styles, sizes, and materials, including stainless steel and aluminized steel. Walker has a Mega-Clamp to meet your heavy-duty needs.\\', \\'<a class=\"a-link-normal\" target=\"_blank\" rel=\"noopener\" href=\"https://images-na.ssl-images-amazon.com/images/G/01/aplusautomation/vendorimages/6c516948-ce04-4753-87cc-5a028481ec69.jpg._CB311883954_.jpg\">\\\\n            <img alt=\"DynoMax Performance Exhaust, DynoMax Performance Mufflers, DynoMax Super Turbo\" src=\"https://images-na.ssl-images-amazon.com/images/G/01/aplusautomation/vendorimages/6c516948-ce04-4753-87cc-5a028481ec69.jpg._CB311883954__SL300__.jpg\" class=\"a-spacing-mini\">\\\\n        </a>\\\\n    \\\\n    \\\\n\\\\n\\\\n                            <br/>\\\\n                            \\\\n\\\\n\\\\n\\\\n\\\\n\\\\n\\\\n\\\\n\\\\n    \\\\n    \\\\n        \\\\n    \\\\n\\\\n\\\\n\\\\n\\\\n\\\\n    \\\\n        <div class=\"a-text-center\">\\\\n            <a class=\"a-link-normal\" target=\"_blank\" rel=\"noopener\" href=\"https://images-na.ssl-images-amazon.com/images/G/01/aplusautomation/vendorimages/6c516948-ce04-4753-87cc-5a028481ec69.jpg._CB311883954_.jpg\">\\\\n                View larger\\\\n            </a>\\\\n        </div>\\', \\'<a class=\"a-link-normal\" target=\"_blank\" rel=\"noopener\" href=\"https://images-na.ssl-images-amazon.com/images/G/01/aplusautomation/vendorimages/82247138-003f-4d58-8001-c10b40fd8fe4.jpg._CB311883964_.jpg\">\\\\n            <img alt=\"DynoMax Performance Exhaust, DynoMax Performance Mufflers, DynoMax VT, Drone-Free Performance\" src=\"https://images-na.ssl-images-amazon.com/images/G/01/aplusautomation/vendorimages/82247138-003f-4d58-8001-c10b40fd8fe4.jpg._CB311883964__SL300__.jpg\" class=\"a-spacing-mini\">\\\\n        </a>\\\\n    \\\\n    \\\\n\\\\n\\\\n                            <br/>\\\\n                            \\\\n\\\\n\\\\n\\\\n\\\\n\\\\n\\\\n\\\\n\\\\n    \\\\n    \\\\n        \\\\n    \\\\n\\\\n\\\\n\\\\n\\\\n\\\\n    \\\\n        <div class=\"a-text-center\">\\\\n            <a class=\"a-link-normal\" target=\"_blank\" rel=\"noopener\" href=\"https://images-na.ssl-images-amazon.com/images/G/01/aplusautomation/vendorimages/82247138-003f-4d58-8001-c10b40fd8fe4.jpg._CB311883964_.jpg\">\\\\n                View larger\\\\n            </a>\\\\n        </div>\\', \\'<a class=\"a-link-normal\" target=\"_blank\" rel=\"noopener\" href=\"https://images-na.ssl-images-amazon.com/images/G/01/aplusautomation/vendorimages/af9a5e8d-e9a0-4df0-8434-0928d3a7ca17.jpg._CB311883918_.jpg\">\\\\n            <img alt=\"DynoMax Performance Exhaust, DynoMax Performance Mufflers, DynoMax Ultra Flo Polished\" src=\"https://images-na.ssl-images-amazon.com/images/G/01/aplusautomation/vendorimages/af9a5e8d-e9a0-4df0-8434-0928d3a7ca17.jpg._CB311883918__SL300__.jpg\" class=\"a-spacing-mini\">\\\\n        </a>\\\\n    \\\\n    \\\\n\\\\n\\\\n                            <br/>\\\\n                            \\\\n\\\\n\\\\n\\\\n\\\\n\\\\n\\\\n\\\\n\\\\n    \\\\n    \\\\n        \\\\n    \\\\n\\\\n\\\\n\\\\n\\\\n\\\\n    \\\\n        <div class=\"a-text-center\">\\\\n            <a class=\"a-link-normal\" target=\"_blank\" rel=\"noopener\" href=\"https://images-na.ssl-images-amazon.com/images/G/01/aplusautomation/vendorimages/af9a5e8d-e9a0-4df0-8434-0928d3a7ca17.jpg._CB311883918_.jpg\">\\\\n                View larger\\\\n            </a>\\\\n        </div>\\', \\'DynoMax Super Turbo performance mufflers exclusive patented flow director design channels exhaust flow and eliminates turbulence. The large internal flow tubes improve exhaust flow and reduce backpressure. Each muffler uses fiberglass matting technology to absorb unwanted interior resonance while maintaining a mellow performance tone.\\', \\'The &#039;Pure Unadulterated Power&#039; of DynoMax Super Turbo mufflers are backed by a Limited Lifetime Warranty and exclusive 90-Day Performance and Sound Guarantee.\\', \\'DynoMax VT mufflers offer a revolutionary, high-flow straight-through stainless steel performance muffler that controls irritating drone, while ensuring maximum performance.\\', \\'To provide Drone-Free Performance, DynoMax Valve Technology mufflers feature an exclusive, precisely calibrated internal valve, that redirects exhaust flow during cruising conditions. Floor the gas, and the valve will automatically adjust for maximum exhaust flow, delivering on-demand performance and a deep, throaty drone-free sound.\\', \\'DynoMax Ultra Flo SS Polished performance mufflers are constructed of stainless steel for lifelong durability and completely polished for show-quality shine. The unrestricted, straight-through design is dyno proven to flow up to 2,000 SCFM and support up to 1,900 horsepower. Each muffler uses our exclusive Continuous Roving Fiberglass (CRF) Technology to absorb unwanted interior resonance while maintaining a deep performance tone.\\', \\'The &#039;Pure Unadulterated Power&#039; of DynoMax Ultra Flo SS Polished mufflers are backed by a Limited Lifetime Warranty and exclusive 90-Day Performance and Sound Guarantee.\\', \\'<a class=\"a-link-normal\" target=\"_blank\" rel=\"noopener\" href=\"https://images-na.ssl-images-amazon.com/images/G/01/aplusautomation/vendorimages/9c035cfc-4ebf-4ee4-b602-dd892aa3f6ca.jpg._CB311883904_.jpg\">\\\\n            <img alt=\"DynoMax Performance Exhaust, DynoMax Performance Mufflers, DynoMax Ultra Flo Welded X\" src=\"https://images-na.ssl-images-amazon.com/images/G/01/aplusautomation/vendorimages/9c035cfc-4ebf-4ee4-b602-dd892aa3f6ca.jpg._CB311883904__SL300__.jpg\" class=\"a-spacing-mini\">\\\\n        </a>\\\\n    \\\\n    \\\\n\\\\n\\\\n                            <br/>\\\\n                            \\\\n\\\\n\\\\n\\\\n\\\\n\\\\n\\\\n\\\\n\\\\n    \\\\n    \\\\n        \\\\n    \\\\n\\\\n\\\\n\\\\n\\\\n\\\\n    \\\\n        <div class=\"a-text-center\">\\\\n            <a class=\"a-link-normal\" target=\"_blank\" rel=\"noopener\" href=\"https://images-na.ssl-images-amazon.com/images/G/01/aplusautomation/vendorimages/9c035cfc-4ebf-4ee4-b602-dd892aa3f6ca.jpg._CB311883904_.jpg\">\\\\n                View larger\\\\n            </a>\\\\n        </div>\\', \\'<a class=\"a-link-normal\" target=\"_blank\" rel=\"noopener\" href=\"https://images-na.ssl-images-amazon.com/images/G/01/aplusautomation/vendorimages/f82eb147-d034-4c80-9ae6-f055f43c83e0.jpg._CB311883933_.jpg\">\\\\n            <img alt=\"DynoMax Performance Exhaust, DynoMax Performance Mufflers, DynoMax Ultra Flo Welded\" src=\"https://images-na.ssl-images-amazon.com/images/G/01/aplusautomation/vendorimages/f82eb147-d034-4c80-9ae6-f055f43c83e0.jpg._CB311883933__SL300__.jpg\" class=\"a-spacing-mini\">\\\\n        </a>\\\\n    \\\\n    \\\\n\\\\n\\\\n                            <br/>\\\\n                            \\\\n\\\\n\\\\n\\\\n\\\\n\\\\n\\\\n\\\\n\\\\n    \\\\n    \\\\n        \\\\n    \\\\n\\\\n\\\\n\\\\n\\\\n\\\\n    \\\\n        <div class=\"a-text-center\">\\\\n            <a class=\"a-link-normal\" target=\"_blank\" rel=\"noopener\" href=\"https://images-na.ssl-images-amazon.com/images/G/01/aplusautomation/vendorimages/f82eb147-d034-4c80-9ae6-f055f43c83e0.jpg._CB311883933_.jpg\">\\\\n                View larger\\\\n            </a>\\\\n        </div>\\', \\'<a class=\"a-link-normal\" target=\"_blank\" rel=\"noopener\" href=\"https://images-na.ssl-images-amazon.com/images/G/01/aplusautomation/vendorimages/c9c5f251-b76a-4539-9219-efa5a40b60d5.jpg._CB311883935_.jpg\">\\\\n            <img alt=\"DynoMax Performance Exhaust, DynoMax Performance Mufflers, DynoMax Ultra Flo Welded Round\" src=\"https://images-na.ssl-images-amazon.com/images/G/01/aplusautomation/vendorimages/c9c5f251-b76a-4539-9219-efa5a40b60d5.jpg._CB311883935__SL300__.jpg\" class=\"a-spacing-mini\">\\\\n        </a>\\\\n    \\\\n    \\\\n\\\\n\\\\n                            <br/>\\\\n                            \\\\n\\\\n\\\\n\\\\n\\\\n\\\\n\\\\n\\\\n\\\\n    \\\\n    \\\\n        \\\\n    \\\\n\\\\n\\\\n\\\\n\\\\n\\\\n    \\\\n        <div class=\"a-text-center\">\\\\n            <a class=\"a-link-normal\" target=\"_blank\" rel=\"noopener\" href=\"https://images-na.ssl-images-amazon.com/images/G/01/aplusautomation/vendorimages/c9c5f251-b76a-4539-9219-efa5a40b60d5.jpg._CB311883935_.jpg\">\\\\n                View larger\\\\n            </a>\\\\n        </div>\\', \\'DynoMax Ultra Flo Welded X performance stainless steel mufflers feature 100% welded construction for lifelong durability. Ultra Flo Welded X incorporates a 3-inches diameter X-pipe balance tube inside the muffler - promoting exhaust scavenging and equalizes flow. Each muffler uses our exclusive Continuous Roving Fiberglass (CRF) Technology to absorb unwanted interior resonance while maintaining a deep performance tone.\\', \\'The &#039;Pure Unadulterated Power&#039; of DynoMax Ultra Flo Welded X mufflers are backed by a Limited Lifetime Warranty.\\', \\'DynoMax Ultra Flo Welded performance stainless steel mufflers feature 100-percent welded construction for lifelong durability. The unrestricted, straight-through design dyno proven to flow up to 2,000 SCFM and support up to 2,000 horsepower. Each muffler uses our exclusive Continuous Roving Fiberglass (CRF) Technology to absorb unwanted interior resonance while maintaining a deep performance tone.\\', \\'The &#039;Pure Unadulterated Power&#039; of DynoMax Ultra Flo Welded mufflers are backed by a Limited Lifetime Warranty and exclusive 90-Day Performance &amp; Sound Guarantee.\\', \\'DynoMax Ultra Flo Welded performance\\', \\'stainless steel mufflers feature 100% welded construction for lifelong durability. The unrestricted, straight-through design dyno proven to flow up to 2,000 SCFM and support up to 2,000 horsepower. Each muffler uses our exclusive Continuous Roving Fiberglass (CRF) Technology to absorb unwanted interior resonance while maintaining a deep performance tone.\\', \\'The &#039;Pure Unadulterated Power&#039; of DynoMax Ultra Flo Welded mufflers are backed by a Limited Lifetime Warranty and exclusive 90-Day Performance and Sound Guarantee.\\', \\'<a class=\"a-link-normal\" target=\"_blank\" rel=\"noopener\" href=\"https://images-na.ssl-images-amazon.com/images/G/01/aplusautomation/vendorimages/ac2b5f58-2052-44a6-a299-36511d50c51d.jpg._CB311883928_.jpg\">\\\\n            <img alt=\"DynoMax Performance Exhaust, DynoMax Performance Mufflers, DynoMax Race Series Bullet\" src=\"https://images-na.ssl-images-amazon.com/images/G/01/aplusautomation/vendorimages/ac2b5f58-2052-44a6-a299-36511d50c51d.jpg._CB311883928__SL300__.jpg\" class=\"a-spacing-mini\">\\\\n        </a>\\\\n    \\\\n    \\\\n\\\\n\\\\n                            <br/>\\\\n                            \\\\n\\\\n\\\\n\\\\n\\\\n\\\\n\\\\n\\\\n\\\\n    \\\\n    \\\\n        \\\\n    \\\\n\\\\n\\\\n\\\\n\\\\n\\\\n    \\\\n        <div class=\"a-text-center\">\\\\n            <a class=\"a-link-normal\" target=\"_blank\" rel=\"noopener\" href=\"https://images-na.ssl-images-amazon.com/images/G/01/aplusautomation/vendorimages/ac2b5f58-2052-44a6-a299-36511d50c51d.jpg._CB311883928_.jpg\">\\\\n                View larger\\\\n            </a>\\\\n        </div>\\', \\'<a class=\"a-link-normal\" target=\"_blank\" rel=\"noopener\" href=\"https://images-na.ssl-images-amazon.com/images/G/01/aplusautomation/vendorimages/72e5a2dd-366d-458a-b3a8-1877db5625e8.jpg._CB311883928_.jpg\">\\\\n            <img alt=\"DynoMax Performance Exhaust, DynoMax Performance Mufflers, DynoMax Race Series Mini Bullet\" src=\"https://images-na.ssl-images-amazon.com/images/G/01/aplusautomation/vendorimages/72e5a2dd-366d-458a-b3a8-1877db5625e8.jpg._CB311883928__SL300__.jpg\" class=\"a-spacing-mini\">\\\\n        </a>\\\\n    \\\\n    \\\\n\\\\n\\\\n                            <br/>\\\\n                            \\\\n\\\\n\\\\n\\\\n\\\\n\\\\n\\\\n\\\\n\\\\n    \\\\n    \\\\n        \\\\n    \\\\n\\\\n\\\\n\\\\n\\\\n\\\\n    \\\\n        <div class=\"a-text-center\">\\\\n            <a class=\"a-link-normal\" target=\"_blank\" rel=\"noopener\" href=\"https://images-na.ssl-images-amazon.com/images/G/01/aplusautomation/vendorimages/72e5a2dd-366d-458a-b3a8-1877db5625e8.jpg._CB311883928_.jpg\">\\\\n                View larger\\\\n            </a>\\\\n        </div>\\', \\'<br/>\\', \\'DynoMax Race Bullet Mufflers feature 100% welded construction for lifelong durability. The &#039;Pure Unadulterated Power&#039; and lightweight, compact design make it the ultimate race muffler. The unrestricted, straight-through design is dyno tested and track proven. Each muffler uses our exclusive Continuous Roving Fiberglass (CRF) Technology which helps provide up to a 4 dbA sound reduction, on most race applications, while maintaining a deep race tone.\\', \\'DynoMax Race Bullet Mufflers feature 100% welded construction for lifelong durability. The &#039;Pure Unadulterated Power&#039; and lightweight, compact design make it the ultimate race muffler. The unrestricted, straight-through design is dyno tested and track proven.\\')'"
      ]
     },
     "execution_count": 7,
     "metadata": {},
     "output_type": "execute_result"
    }
   ],
   "source": [
    "description_value = description_values[142]\n",
    "description_value"
   ]
  },
  {
   "cell_type": "code",
   "execution_count": 8,
   "id": "bbf2069a",
   "metadata": {},
   "outputs": [
    {
     "data": {
      "text/plain": [
       "['walker megaclamp combines stateoftheart walker engineering quality manufacturing available wide range styles sizes materials including stainless steel aluminized steel walker megaclamp meet heavyduty needs',\n",
       " 'view larger view larger view larger dynomax super turbo performance mufflers exclusive patented flow director design channels exhaust flow eliminates turbulence large internal flow tubes improve exhaust flow reduce backpressure muffler uses fiberglass matting technology absorb unwanted interior resonance maintaining mellow performance tone',\n",
       " 'pure unadulterated power dynomax super turbo mufflers backed limited lifetime warranty exclusive performance sound guarantee',\n",
       " 'dynomax mufflers offer revolutionary highflow straightthrough stainless steel performance muffler controls irritating drone ensuring maximum performance',\n",
       " 'provide dronefree performance dynomax valve technology mufflers feature exclusive precisely calibrated internal valve redirects exhaust flow cruising conditions floor gas valve automatically adjust maximum exhaust flow delivering ondemand performance deep throaty dronefree sound',\n",
       " 'dynomax ultra flo polished performance mufflers constructed stainless steel lifelong durability completely polished showquality shine unrestricted straightthrough design dyno proven flow scfm support horsepower muffler uses exclusive continuous roving fiberglass crf technology absorb unwanted interior resonance maintaining deep performance tone',\n",
       " 'pure unadulterated power dynomax ultra flo polished mufflers backed limited lifetime warranty exclusive performance sound guarantee',\n",
       " 'view larger view larger view larger dynomax ultra flo welded performance stainless steel mufflers feature welded construction lifelong durability ultra flo welded incorporates diameter xpipe balance tube inside muffler promoting exhaust scavenging equalizes flow muffler uses exclusive continuous roving fiberglass crf technology absorb unwanted interior resonance maintaining deep performance tone',\n",
       " 'pure unadulterated power dynomax ultra flo welded mufflers backed limited lifetime warranty',\n",
       " 'dynomax ultra flo welded performance stainless steel mufflers feature welded construction lifelong durability unrestricted straightthrough design dyno proven flow scfm support horsepower muffler uses exclusive continuous roving fiberglass crf technology absorb unwanted interior resonance maintaining deep performance tone',\n",
       " 'pure unadulterated power dynomax ultra flo welded mufflers backed limited lifetime warranty exclusive performance amp sound guarantee',\n",
       " 'dynomax ultra flo welded performance stainless steel mufflers feature welded construction lifelong durability unrestricted straightthrough design dyno proven flow scfm support horsepower muffler uses exclusive continuous roving fiberglass crf technology absorb unwanted interior resonance maintaining deep performance tone',\n",
       " 'pure unadulterated power dynomax ultra flo welded mufflers backed limited lifetime warranty exclusive performance sound guarantee',\n",
       " 'view larger view larger dynomax race bullet mufflers feature welded construction lifelong durability pure unadulterated power lightweight compact design make ultimate race muffler unrestricted straightthrough design dyno tested track proven muffler uses exclusive continuous roving fiberglass crf technology helps provide dba sound reduction race applications maintaining deep race tone',\n",
       " 'dynomax race bullet mufflers feature welded construction lifelong durability pure unadulterated power lightweight compact design make ultimate race muffler unrestricted straightthrough design dyno tested track proven']"
      ]
     },
     "execution_count": 8,
     "metadata": {},
     "output_type": "execute_result"
    }
   ],
   "source": [
    "description_processed = TextGroupProcessing(description_value).get_text_group_processed()\n",
    "description_processed"
   ]
  },
  {
   "cell_type": "markdown",
   "id": "cd0fbf4e",
   "metadata": {},
   "source": [
    "### Title"
   ]
  },
  {
   "cell_type": "code",
   "execution_count": 9,
   "id": "2a75873c",
   "metadata": {},
   "outputs": [
    {
     "data": {
      "text/plain": [
       "array(['NSI - A Day Without Sunshine is Like, Well, Night! - Bumper Sticker',\n",
       "       'Genuine GM Parts 10341533 Rear Bumper Valance Panel',\n",
       "       ' JLM HID Conversion Kit H13 (9008) Dual Tube BI-XENON 6000K 4 SLIM Ballasts (Diamond White)',\n",
       "       ..., 'MFE INTERNET SECURITY 1PC 2014',\n",
       "       'YBS Nuance Dragon Naturally Speaking Premium 13.0 Upgrade from Premium 11 and 12 - Upgrade Only',\n",
       "       '1YR KIS 2016 3DT COM LICS+LTD'], dtype=object)"
      ]
     },
     "execution_count": 9,
     "metadata": {},
     "output_type": "execute_result"
    }
   ],
   "source": [
    "title_values = df.title.values\n",
    "title_values"
   ]
  },
  {
   "cell_type": "code",
   "execution_count": 10,
   "id": "0c7f24b6",
   "metadata": {},
   "outputs": [
    {
     "data": {
      "text/plain": [
       "'Genuine GM Parts 10341533 Rear Bumper Valance Panel'"
      ]
     },
     "execution_count": 10,
     "metadata": {},
     "output_type": "execute_result"
    }
   ],
   "source": [
    "title_value = title_values[1]\n",
    "title_value"
   ]
  },
  {
   "cell_type": "code",
   "execution_count": 11,
   "id": "333fe889",
   "metadata": {},
   "outputs": [
    {
     "data": {
      "text/plain": [
       "['genuine parts rear bumper valance panel']"
      ]
     },
     "execution_count": 11,
     "metadata": {},
     "output_type": "execute_result"
    }
   ],
   "source": [
    "TextGroupProcessing(title_value).get_text_group_processed()"
   ]
  },
  {
   "cell_type": "markdown",
   "id": "1dc21889",
   "metadata": {},
   "source": [
    "### Features"
   ]
  },
  {
   "cell_type": "markdown",
   "id": "314a1360",
   "metadata": {},
   "source": [
    "We can use the same processing for the text of descriptions to the features."
   ]
  },
  {
   "cell_type": "code",
   "execution_count": 12,
   "id": "8c567e53",
   "metadata": {},
   "outputs": [],
   "source": [
    "feature_values = df.feature.values"
   ]
  },
  {
   "cell_type": "code",
   "execution_count": 13,
   "id": "46ee8818",
   "metadata": {},
   "outputs": [
    {
     "data": {
      "text/plain": [
       "array([\"('Official Licensed Die-Cut Sticker Designed by NSI', 'Premium Decal is Great for All Surfaces; Skateboards, Windows, Walls, Desks, Doors, Automobiles, Motorcycles, Bumpers, Computers, Laptops, Tablets, Phones, Guitars & Etc.', 'Extra Durable, Remarkable Adhesive Long Lasting Vinyl Die-Cut Screen Print Sticker, Can Withstand Any Indoor/Outdoor Weather, Water Protected, UV Coated', 'Unique Gift Idea Suitable for Fans & Others', 'Individual Protective Packaging.')\",\n",
       "       \"('This is the official Genuine General Motors Parts replacement part for your vehicle.',)\",\n",
       "       \"('Will run for approx 2500 hours', 'Produces 2 to 3 times as much light as a halogen lamp', 'German advanced technology')\",\n",
       "       ...,\n",
       "       \"('A quality product by MCAFEE, INC.', 'A quality product by MCAFEE, INC.', 'A quality product by MCAFEE, INC.', 'A quality product by MCAFEE, INC.', 'A quality product by MCAFEE, INC.')\",\n",
       "       \"('Nuance Dragon Naturally Speaking Premium 13.0 Upgrade from Premium 11 and 12 - Upgrade Only',)\",\n",
       "       \"('Kaspersky Internet Security 2016 - 3 Devices 1 Year KL1941ABCFS-1621UZZ 748252594129',)\"],\n",
       "      dtype=object)"
      ]
     },
     "execution_count": 13,
     "metadata": {},
     "output_type": "execute_result"
    }
   ],
   "source": [
    "feature_values"
   ]
  },
  {
   "cell_type": "code",
   "execution_count": 14,
   "id": "80f1a66e",
   "metadata": {},
   "outputs": [
    {
     "data": {
      "text/plain": [
       "\"('Official Licensed Die-Cut Sticker Designed by NSI', 'Premium Decal is Great for All Surfaces; Skateboards, Windows, Walls, Desks, Doors, Automobiles, Motorcycles, Bumpers, Computers, Laptops, Tablets, Phones, Guitars & Etc.', 'Extra Durable, Remarkable Adhesive Long Lasting Vinyl Die-Cut Screen Print Sticker, Can Withstand Any Indoor/Outdoor Weather, Water Protected, UV Coated', 'Unique Gift Idea Suitable for Fans & Others', 'Individual Protective Packaging.')\""
      ]
     },
     "execution_count": 14,
     "metadata": {},
     "output_type": "execute_result"
    }
   ],
   "source": [
    "feature_value = feature_values[0]\n",
    "feature_value"
   ]
  },
  {
   "cell_type": "code",
   "execution_count": 15,
   "id": "495a6313",
   "metadata": {},
   "outputs": [
    {
     "data": {
      "text/plain": [
       "['official licensed diecut sticker designed nsi premium decal great surfaces skateboards windows walls desks doors automobiles motorcycles bumpers computers laptops tablets phones guitars etc',\n",
       " 'extra durable remarkable adhesive long lasting vinyl diecut screen print sticker withstand indooroutdoor weather water protected coated unique gift idea suitable fans others individual protective packaging']"
      ]
     },
     "execution_count": 15,
     "metadata": {},
     "output_type": "execute_result"
    }
   ],
   "source": [
    "feature_processed = TextGroupProcessing(feature_value).get_text_group_processed()\n",
    "feature_processed"
   ]
  },
  {
   "cell_type": "markdown",
   "id": "300974f2",
   "metadata": {},
   "source": [
    "## Text Embeddings"
   ]
  },
  {
   "cell_type": "markdown",
   "id": "711512e7",
   "metadata": {},
   "source": [
    "To effectively be able to use this word tokens, we are going to use a pre-trained model from HuggingFace to get the embeddings.\n",
    "\n",
    "We will use these different models:\n",
    "- [msmarco-distilbert-base-tas-b](https://huggingface.co/sentence-transformers/msmarco-distilbert-base-tas-b): for the **description**. We will get a 768 dimensional vector space (200M of size).\n",
    "- [paraphrase-MiniLM-L6-v2](https://huggingface.co/sentence-transformers/paraphrase-MiniLM-L6-v2): for **title** & **features**. We will get a 384 dimensional dense vector (90M of size)."
   ]
  },
  {
   "cell_type": "code",
   "execution_count": 16,
   "id": "b4fbc7ed",
   "metadata": {},
   "outputs": [],
   "source": [
    "from shared.model.features.embedding.text import DescriptionEmbedding, FeatureEmbedding"
   ]
  },
  {
   "cell_type": "markdown",
   "id": "6bda7493",
   "metadata": {},
   "source": [
    "How we are going to handle when we have multiple descriptions? \n",
    "\n",
    "We are going to apply a **average pooling layer**."
   ]
  },
  {
   "cell_type": "code",
   "execution_count": 17,
   "id": "359c67ba",
   "metadata": {},
   "outputs": [
    {
     "data": {
      "text/plain": [
       "'(\\'The Walker Mega-Clamp combines state-of-the-art Walker engineering with quality manufacturing. Available in a wide range of styles, sizes, and materials, including stainless steel and aluminized steel. Walker has a Mega-Clamp to meet your heavy-duty needs.\\', \\'<a class=\"a-link-normal\" target=\"_blank\" rel=\"noopener\" href=\"https://images-na.ssl-images-amazon.com/images/G/01/aplusautomation/vendorimages/6c516948-ce04-4753-87cc-5a028481ec69.jpg._CB311883954_.jpg\">\\\\n            <img alt=\"DynoMax Performance Exhaust, DynoMax Performance Mufflers, DynoMax Super Turbo\" src=\"https://images-na.ssl-images-amazon.com/images/G/01/aplusautomation/vendorimages/6c516948-ce04-4753-87cc-5a028481ec69.jpg._CB311883954__SL300__.jpg\" class=\"a-spacing-mini\">\\\\n        </a>\\\\n    \\\\n    \\\\n\\\\n\\\\n                            <br/>\\\\n                            \\\\n\\\\n\\\\n\\\\n\\\\n\\\\n\\\\n\\\\n\\\\n    \\\\n    \\\\n        \\\\n    \\\\n\\\\n\\\\n\\\\n\\\\n\\\\n    \\\\n        <div class=\"a-text-center\">\\\\n            <a class=\"a-link-normal\" target=\"_blank\" rel=\"noopener\" href=\"https://images-na.ssl-images-amazon.com/images/G/01/aplusautomation/vendorimages/6c516948-ce04-4753-87cc-5a028481ec69.jpg._CB311883954_.jpg\">\\\\n                View larger\\\\n            </a>\\\\n        </div>\\', \\'<a class=\"a-link-normal\" target=\"_blank\" rel=\"noopener\" href=\"https://images-na.ssl-images-amazon.com/images/G/01/aplusautomation/vendorimages/82247138-003f-4d58-8001-c10b40fd8fe4.jpg._CB311883964_.jpg\">\\\\n            <img alt=\"DynoMax Performance Exhaust, DynoMax Performance Mufflers, DynoMax VT, Drone-Free Performance\" src=\"https://images-na.ssl-images-amazon.com/images/G/01/aplusautomation/vendorimages/82247138-003f-4d58-8001-c10b40fd8fe4.jpg._CB311883964__SL300__.jpg\" class=\"a-spacing-mini\">\\\\n        </a>\\\\n    \\\\n    \\\\n\\\\n\\\\n                            <br/>\\\\n                            \\\\n\\\\n\\\\n\\\\n\\\\n\\\\n\\\\n\\\\n\\\\n    \\\\n    \\\\n        \\\\n    \\\\n\\\\n\\\\n\\\\n\\\\n\\\\n    \\\\n        <div class=\"a-text-center\">\\\\n            <a class=\"a-link-normal\" target=\"_blank\" rel=\"noopener\" href=\"https://images-na.ssl-images-amazon.com/images/G/01/aplusautomation/vendorimages/82247138-003f-4d58-8001-c10b40fd8fe4.jpg._CB311883964_.jpg\">\\\\n                View larger\\\\n            </a>\\\\n        </div>\\', \\'<a class=\"a-link-normal\" target=\"_blank\" rel=\"noopener\" href=\"https://images-na.ssl-images-amazon.com/images/G/01/aplusautomation/vendorimages/af9a5e8d-e9a0-4df0-8434-0928d3a7ca17.jpg._CB311883918_.jpg\">\\\\n            <img alt=\"DynoMax Performance Exhaust, DynoMax Performance Mufflers, DynoMax Ultra Flo Polished\" src=\"https://images-na.ssl-images-amazon.com/images/G/01/aplusautomation/vendorimages/af9a5e8d-e9a0-4df0-8434-0928d3a7ca17.jpg._CB311883918__SL300__.jpg\" class=\"a-spacing-mini\">\\\\n        </a>\\\\n    \\\\n    \\\\n\\\\n\\\\n                            <br/>\\\\n                            \\\\n\\\\n\\\\n\\\\n\\\\n\\\\n\\\\n\\\\n\\\\n    \\\\n    \\\\n        \\\\n    \\\\n\\\\n\\\\n\\\\n\\\\n\\\\n    \\\\n        <div class=\"a-text-center\">\\\\n            <a class=\"a-link-normal\" target=\"_blank\" rel=\"noopener\" href=\"https://images-na.ssl-images-amazon.com/images/G/01/aplusautomation/vendorimages/af9a5e8d-e9a0-4df0-8434-0928d3a7ca17.jpg._CB311883918_.jpg\">\\\\n                View larger\\\\n            </a>\\\\n        </div>\\', \\'DynoMax Super Turbo performance mufflers exclusive patented flow director design channels exhaust flow and eliminates turbulence. The large internal flow tubes improve exhaust flow and reduce backpressure. Each muffler uses fiberglass matting technology to absorb unwanted interior resonance while maintaining a mellow performance tone.\\', \\'The &#039;Pure Unadulterated Power&#039; of DynoMax Super Turbo mufflers are backed by a Limited Lifetime Warranty and exclusive 90-Day Performance and Sound Guarantee.\\', \\'DynoMax VT mufflers offer a revolutionary, high-flow straight-through stainless steel performance muffler that controls irritating drone, while ensuring maximum performance.\\', \\'To provide Drone-Free Performance, DynoMax Valve Technology mufflers feature an exclusive, precisely calibrated internal valve, that redirects exhaust flow during cruising conditions. Floor the gas, and the valve will automatically adjust for maximum exhaust flow, delivering on-demand performance and a deep, throaty drone-free sound.\\', \\'DynoMax Ultra Flo SS Polished performance mufflers are constructed of stainless steel for lifelong durability and completely polished for show-quality shine. The unrestricted, straight-through design is dyno proven to flow up to 2,000 SCFM and support up to 1,900 horsepower. Each muffler uses our exclusive Continuous Roving Fiberglass (CRF) Technology to absorb unwanted interior resonance while maintaining a deep performance tone.\\', \\'The &#039;Pure Unadulterated Power&#039; of DynoMax Ultra Flo SS Polished mufflers are backed by a Limited Lifetime Warranty and exclusive 90-Day Performance and Sound Guarantee.\\', \\'<a class=\"a-link-normal\" target=\"_blank\" rel=\"noopener\" href=\"https://images-na.ssl-images-amazon.com/images/G/01/aplusautomation/vendorimages/9c035cfc-4ebf-4ee4-b602-dd892aa3f6ca.jpg._CB311883904_.jpg\">\\\\n            <img alt=\"DynoMax Performance Exhaust, DynoMax Performance Mufflers, DynoMax Ultra Flo Welded X\" src=\"https://images-na.ssl-images-amazon.com/images/G/01/aplusautomation/vendorimages/9c035cfc-4ebf-4ee4-b602-dd892aa3f6ca.jpg._CB311883904__SL300__.jpg\" class=\"a-spacing-mini\">\\\\n        </a>\\\\n    \\\\n    \\\\n\\\\n\\\\n                            <br/>\\\\n                            \\\\n\\\\n\\\\n\\\\n\\\\n\\\\n\\\\n\\\\n\\\\n    \\\\n    \\\\n        \\\\n    \\\\n\\\\n\\\\n\\\\n\\\\n\\\\n    \\\\n        <div class=\"a-text-center\">\\\\n            <a class=\"a-link-normal\" target=\"_blank\" rel=\"noopener\" href=\"https://images-na.ssl-images-amazon.com/images/G/01/aplusautomation/vendorimages/9c035cfc-4ebf-4ee4-b602-dd892aa3f6ca.jpg._CB311883904_.jpg\">\\\\n                View larger\\\\n            </a>\\\\n        </div>\\', \\'<a class=\"a-link-normal\" target=\"_blank\" rel=\"noopener\" href=\"https://images-na.ssl-images-amazon.com/images/G/01/aplusautomation/vendorimages/f82eb147-d034-4c80-9ae6-f055f43c83e0.jpg._CB311883933_.jpg\">\\\\n            <img alt=\"DynoMax Performance Exhaust, DynoMax Performance Mufflers, DynoMax Ultra Flo Welded\" src=\"https://images-na.ssl-images-amazon.com/images/G/01/aplusautomation/vendorimages/f82eb147-d034-4c80-9ae6-f055f43c83e0.jpg._CB311883933__SL300__.jpg\" class=\"a-spacing-mini\">\\\\n        </a>\\\\n    \\\\n    \\\\n\\\\n\\\\n                            <br/>\\\\n                            \\\\n\\\\n\\\\n\\\\n\\\\n\\\\n\\\\n\\\\n\\\\n    \\\\n    \\\\n        \\\\n    \\\\n\\\\n\\\\n\\\\n\\\\n\\\\n    \\\\n        <div class=\"a-text-center\">\\\\n            <a class=\"a-link-normal\" target=\"_blank\" rel=\"noopener\" href=\"https://images-na.ssl-images-amazon.com/images/G/01/aplusautomation/vendorimages/f82eb147-d034-4c80-9ae6-f055f43c83e0.jpg._CB311883933_.jpg\">\\\\n                View larger\\\\n            </a>\\\\n        </div>\\', \\'<a class=\"a-link-normal\" target=\"_blank\" rel=\"noopener\" href=\"https://images-na.ssl-images-amazon.com/images/G/01/aplusautomation/vendorimages/c9c5f251-b76a-4539-9219-efa5a40b60d5.jpg._CB311883935_.jpg\">\\\\n            <img alt=\"DynoMax Performance Exhaust, DynoMax Performance Mufflers, DynoMax Ultra Flo Welded Round\" src=\"https://images-na.ssl-images-amazon.com/images/G/01/aplusautomation/vendorimages/c9c5f251-b76a-4539-9219-efa5a40b60d5.jpg._CB311883935__SL300__.jpg\" class=\"a-spacing-mini\">\\\\n        </a>\\\\n    \\\\n    \\\\n\\\\n\\\\n                            <br/>\\\\n                            \\\\n\\\\n\\\\n\\\\n\\\\n\\\\n\\\\n\\\\n\\\\n    \\\\n    \\\\n        \\\\n    \\\\n\\\\n\\\\n\\\\n\\\\n\\\\n    \\\\n        <div class=\"a-text-center\">\\\\n            <a class=\"a-link-normal\" target=\"_blank\" rel=\"noopener\" href=\"https://images-na.ssl-images-amazon.com/images/G/01/aplusautomation/vendorimages/c9c5f251-b76a-4539-9219-efa5a40b60d5.jpg._CB311883935_.jpg\">\\\\n                View larger\\\\n            </a>\\\\n        </div>\\', \\'DynoMax Ultra Flo Welded X performance stainless steel mufflers feature 100% welded construction for lifelong durability. Ultra Flo Welded X incorporates a 3-inches diameter X-pipe balance tube inside the muffler - promoting exhaust scavenging and equalizes flow. Each muffler uses our exclusive Continuous Roving Fiberglass (CRF) Technology to absorb unwanted interior resonance while maintaining a deep performance tone.\\', \\'The &#039;Pure Unadulterated Power&#039; of DynoMax Ultra Flo Welded X mufflers are backed by a Limited Lifetime Warranty.\\', \\'DynoMax Ultra Flo Welded performance stainless steel mufflers feature 100-percent welded construction for lifelong durability. The unrestricted, straight-through design dyno proven to flow up to 2,000 SCFM and support up to 2,000 horsepower. Each muffler uses our exclusive Continuous Roving Fiberglass (CRF) Technology to absorb unwanted interior resonance while maintaining a deep performance tone.\\', \\'The &#039;Pure Unadulterated Power&#039; of DynoMax Ultra Flo Welded mufflers are backed by a Limited Lifetime Warranty and exclusive 90-Day Performance &amp; Sound Guarantee.\\', \\'DynoMax Ultra Flo Welded performance\\', \\'stainless steel mufflers feature 100% welded construction for lifelong durability. The unrestricted, straight-through design dyno proven to flow up to 2,000 SCFM and support up to 2,000 horsepower. Each muffler uses our exclusive Continuous Roving Fiberglass (CRF) Technology to absorb unwanted interior resonance while maintaining a deep performance tone.\\', \\'The &#039;Pure Unadulterated Power&#039; of DynoMax Ultra Flo Welded mufflers are backed by a Limited Lifetime Warranty and exclusive 90-Day Performance and Sound Guarantee.\\', \\'<a class=\"a-link-normal\" target=\"_blank\" rel=\"noopener\" href=\"https://images-na.ssl-images-amazon.com/images/G/01/aplusautomation/vendorimages/ac2b5f58-2052-44a6-a299-36511d50c51d.jpg._CB311883928_.jpg\">\\\\n            <img alt=\"DynoMax Performance Exhaust, DynoMax Performance Mufflers, DynoMax Race Series Bullet\" src=\"https://images-na.ssl-images-amazon.com/images/G/01/aplusautomation/vendorimages/ac2b5f58-2052-44a6-a299-36511d50c51d.jpg._CB311883928__SL300__.jpg\" class=\"a-spacing-mini\">\\\\n        </a>\\\\n    \\\\n    \\\\n\\\\n\\\\n                            <br/>\\\\n                            \\\\n\\\\n\\\\n\\\\n\\\\n\\\\n\\\\n\\\\n\\\\n    \\\\n    \\\\n        \\\\n    \\\\n\\\\n\\\\n\\\\n\\\\n\\\\n    \\\\n        <div class=\"a-text-center\">\\\\n            <a class=\"a-link-normal\" target=\"_blank\" rel=\"noopener\" href=\"https://images-na.ssl-images-amazon.com/images/G/01/aplusautomation/vendorimages/ac2b5f58-2052-44a6-a299-36511d50c51d.jpg._CB311883928_.jpg\">\\\\n                View larger\\\\n            </a>\\\\n        </div>\\', \\'<a class=\"a-link-normal\" target=\"_blank\" rel=\"noopener\" href=\"https://images-na.ssl-images-amazon.com/images/G/01/aplusautomation/vendorimages/72e5a2dd-366d-458a-b3a8-1877db5625e8.jpg._CB311883928_.jpg\">\\\\n            <img alt=\"DynoMax Performance Exhaust, DynoMax Performance Mufflers, DynoMax Race Series Mini Bullet\" src=\"https://images-na.ssl-images-amazon.com/images/G/01/aplusautomation/vendorimages/72e5a2dd-366d-458a-b3a8-1877db5625e8.jpg._CB311883928__SL300__.jpg\" class=\"a-spacing-mini\">\\\\n        </a>\\\\n    \\\\n    \\\\n\\\\n\\\\n                            <br/>\\\\n                            \\\\n\\\\n\\\\n\\\\n\\\\n\\\\n\\\\n\\\\n\\\\n    \\\\n    \\\\n        \\\\n    \\\\n\\\\n\\\\n\\\\n\\\\n\\\\n    \\\\n        <div class=\"a-text-center\">\\\\n            <a class=\"a-link-normal\" target=\"_blank\" rel=\"noopener\" href=\"https://images-na.ssl-images-amazon.com/images/G/01/aplusautomation/vendorimages/72e5a2dd-366d-458a-b3a8-1877db5625e8.jpg._CB311883928_.jpg\">\\\\n                View larger\\\\n            </a>\\\\n        </div>\\', \\'<br/>\\', \\'DynoMax Race Bullet Mufflers feature 100% welded construction for lifelong durability. The &#039;Pure Unadulterated Power&#039; and lightweight, compact design make it the ultimate race muffler. The unrestricted, straight-through design is dyno tested and track proven. Each muffler uses our exclusive Continuous Roving Fiberglass (CRF) Technology which helps provide up to a 4 dbA sound reduction, on most race applications, while maintaining a deep race tone.\\', \\'DynoMax Race Bullet Mufflers feature 100% welded construction for lifelong durability. The &#039;Pure Unadulterated Power&#039; and lightweight, compact design make it the ultimate race muffler. The unrestricted, straight-through design is dyno tested and track proven.\\')'"
      ]
     },
     "execution_count": 17,
     "metadata": {},
     "output_type": "execute_result"
    }
   ],
   "source": [
    "description_value"
   ]
  },
  {
   "cell_type": "code",
   "execution_count": 18,
   "id": "06fc7844",
   "metadata": {},
   "outputs": [],
   "source": [
    "description_embedding = DescriptionEmbedding()\n",
    "texts_embedding = description_embedding.get_text_group_embedding(description_value)"
   ]
  },
  {
   "cell_type": "code",
   "execution_count": 22,
   "id": "e78cd867",
   "metadata": {},
   "outputs": [
    {
     "data": {
      "text/plain": [
       "tensor([-3.6675e-02, -9.6275e-02,  2.4945e-01,  9.3478e-02,  2.4204e-01,\n",
       "         7.2724e-02, -2.4135e-01, -2.8296e-01, -2.5687e-01,  2.3430e-01,\n",
       "         3.2905e-02,  2.7275e-01, -1.0877e-01, -1.5055e-01,  3.1442e-01,\n",
       "         9.6190e-02,  2.1163e-01,  1.0992e-01, -3.4900e-01, -2.6917e-01,\n",
       "         3.9599e-01, -6.8156e-01,  8.3151e-02,  3.3678e-01, -5.9381e-02,\n",
       "         5.7098e-01,  2.7844e-01, -8.4458e-02, -1.1022e-01,  3.2266e-01,\n",
       "         1.8216e-01,  1.5903e-01,  1.0519e-01, -1.1145e-01,  1.3594e-01,\n",
       "         2.2130e-01,  1.8322e-01,  8.2998e-02,  1.9304e-01,  1.8475e-01,\n",
       "        -3.6797e-01, -2.4001e-01, -1.4896e-01,  9.8006e-02, -1.2300e-01,\n",
       "         7.9132e-02, -3.5379e-01,  2.6480e-01,  1.1052e-01,  1.2949e-01,\n",
       "        -1.8417e-01,  1.7968e-02, -3.1764e-01,  2.9894e-01, -1.7790e-02,\n",
       "         1.2218e-01,  1.5186e-01,  1.8122e-02,  8.3302e-02, -1.2054e-01,\n",
       "        -3.8600e-01, -2.3516e-01, -1.2830e-01,  1.5319e-01, -1.4141e-01,\n",
       "         7.2345e-02, -2.4167e-01, -1.0738e-02, -3.0831e-01, -9.0109e-02,\n",
       "         1.7452e-01,  2.5332e-01,  1.9376e-01, -1.7190e-01,  1.6082e-01,\n",
       "        -8.3507e-02, -1.8037e-01,  1.9288e-01,  4.2797e-01,  2.6594e-01,\n",
       "         2.4555e-01,  2.9079e-01,  3.9303e-01,  1.3306e-01, -3.0886e-03,\n",
       "         6.0158e-02,  4.2277e-01, -3.3192e-03, -4.6984e-01,  8.6263e-02,\n",
       "        -3.0239e-01, -3.3956e-01,  5.7987e-02,  6.0512e-02,  7.2194e-02,\n",
       "         2.4086e-01,  7.8120e-03,  2.6552e-01,  2.9364e-01,  2.6515e-01,\n",
       "        -2.0902e-01,  2.4049e-01, -4.0332e-02,  9.2052e-02,  2.4416e-01,\n",
       "         2.7399e-01, -5.7805e-01, -9.1846e-02, -1.8587e-01,  7.3299e-02,\n",
       "         7.9650e-02, -6.2058e-02,  1.1174e-01, -3.0310e-01, -1.6912e-01,\n",
       "        -2.4010e-01, -4.1180e-01, -6.3511e-02,  4.6093e-01,  3.6362e-01,\n",
       "         6.0204e-01, -2.2082e-01, -1.3156e-01,  2.2280e-01,  9.3505e-02,\n",
       "        -1.8363e-01,  2.2528e-01,  4.0434e-01, -4.7209e-01, -5.9075e-02,\n",
       "        -6.8740e-02,  2.4373e-01,  2.3194e-01,  1.2473e-01,  3.1570e-02,\n",
       "        -1.1971e-02,  1.7921e-01, -7.8681e-02,  1.5976e-01,  1.7268e-01,\n",
       "        -2.2714e-01, -1.8169e-01,  1.5107e-01, -2.8359e-01, -2.1338e-02,\n",
       "        -2.2723e-01,  1.6351e-01,  5.4980e-02, -5.5141e-02, -6.8650e-04,\n",
       "         1.5029e-01, -3.0982e-03,  1.6704e-01, -3.6507e-01, -1.9520e-01,\n",
       "        -1.1190e-01, -6.1266e-02, -2.4855e-01, -2.9766e-01, -2.9299e-02,\n",
       "        -7.3501e-02,  3.0984e-01, -4.5676e-01, -1.5636e-01,  1.0568e-01,\n",
       "         4.7023e-02, -1.9612e-01, -1.9125e-01, -8.9016e-02,  1.8521e-01,\n",
       "         5.0274e-01, -3.8338e-02,  2.5421e-01,  3.0507e-01, -1.9838e-02,\n",
       "         4.7910e-01,  2.6716e-01,  1.2202e-01, -1.2379e-01,  2.7940e-01,\n",
       "        -3.6948e-01,  6.9915e-02, -1.4273e-01,  1.0401e-01,  4.0130e-01,\n",
       "        -3.0313e-02,  9.5622e-02, -3.8936e-02, -1.8292e-01, -2.5073e-01,\n",
       "        -1.9512e-02, -4.2308e-01,  5.2486e-02, -3.7345e-01,  3.5105e-01,\n",
       "         9.4948e-02, -9.8094e-03,  2.2793e-01, -4.9365e-01,  3.2665e-01,\n",
       "         6.4845e-01,  1.1055e-01, -2.6651e-01, -3.7120e-01, -2.2988e-01,\n",
       "         2.7322e-02,  1.5998e-01, -1.2716e-02,  9.5020e-03, -5.7504e-03,\n",
       "         4.2183e-02, -2.5059e-01, -1.9303e-02,  2.1940e-01, -3.1370e-02,\n",
       "        -6.4037e-01,  2.4969e-01, -2.5371e-01, -2.0803e-01, -4.7513e-03,\n",
       "         3.0883e-01,  1.0928e-01, -2.9713e-01,  5.1335e-01, -2.1221e-01,\n",
       "         1.9118e-01,  2.4283e-01, -1.7680e-01,  7.8767e-02,  2.6796e-01,\n",
       "        -1.6225e-01, -5.5995e-02, -9.7926e-02, -1.7995e-01,  1.6717e-01,\n",
       "         3.9541e-02, -1.6100e-02,  1.6512e-01,  2.8748e-02, -7.6934e-02,\n",
       "         5.4356e-02, -1.6850e-01, -2.6031e-01, -5.7585e-02,  2.3448e-01,\n",
       "        -2.4290e-01,  6.1367e-02,  3.4761e-01, -3.5319e-01,  4.9897e-02,\n",
       "        -1.0018e-01,  5.1978e-01,  1.5912e-01,  8.0735e-02, -2.0374e-02,\n",
       "        -9.4086e-02, -1.1828e-01, -2.5478e-01, -6.2768e-01, -7.9419e-02,\n",
       "         1.1303e-02,  4.6100e-02, -2.0063e-03, -8.1188e-02, -1.0115e-01,\n",
       "        -2.1634e-01,  9.5531e-02, -6.0175e-02,  1.9412e-01, -1.5158e-01,\n",
       "        -1.1650e-01,  3.8132e-01, -3.1576e-01,  2.9875e-01, -4.2769e-01,\n",
       "        -1.3884e-01, -1.3667e-01, -1.6297e-02,  4.9769e-02, -4.5046e-01,\n",
       "         6.3336e-02,  2.8743e-01,  1.7558e-01,  1.3194e-01, -2.6639e-01,\n",
       "        -2.9034e-02, -2.1690e-01, -2.3239e-01, -1.3315e-01, -5.0853e-02,\n",
       "        -2.1817e-01, -7.0374e-02, -3.2481e-01, -2.1298e-01, -1.8144e-01,\n",
       "         1.1467e-01, -6.7800e-02, -2.1902e-01, -1.5206e-01,  6.6285e-02,\n",
       "        -4.8915e-01, -4.2796e-02, -6.8575e-02,  1.1858e-01,  9.5449e-02,\n",
       "        -1.7259e-02, -1.7915e-01, -1.4378e-01, -8.2715e+00,  2.3070e-01,\n",
       "         1.1369e-01, -1.2168e-01,  4.5547e-01,  2.1729e-01, -1.7360e-01,\n",
       "         8.8075e-03, -1.0640e-01, -1.6853e-01, -4.5100e-01,  3.1404e-01,\n",
       "        -8.0457e-02, -1.2229e-01, -9.1406e-02,  1.4988e-01, -9.1008e-02,\n",
       "        -3.0715e-01, -4.5147e-02, -1.9599e-01, -2.3875e-03, -3.3589e-01,\n",
       "        -1.7248e-02, -9.0706e-02,  1.8995e-01, -2.0890e-01, -6.1507e-01,\n",
       "         6.9260e-02, -2.7147e-01, -3.2306e-01, -4.2460e-01, -4.9960e-01,\n",
       "        -8.5365e-02,  2.7292e-01, -2.7514e-02, -2.2607e-01,  1.4830e-01,\n",
       "        -4.4542e-03,  3.3916e-02, -3.8601e-01,  1.6327e-01, -1.1540e-01,\n",
       "        -8.2252e-02, -1.2114e-01, -1.7822e-01, -1.0602e-01, -1.2216e-01,\n",
       "         1.2107e-01, -1.6276e-01,  5.5016e-03,  3.5167e-01,  5.8434e-02,\n",
       "        -1.9926e-01,  2.9040e-01,  2.2154e-02,  1.4864e-01,  1.0648e-01,\n",
       "         1.3505e-01, -1.4896e-01,  5.5836e-01,  6.4426e-03, -7.8363e-02,\n",
       "        -7.4563e-01,  2.5317e-01, -4.7340e-01,  1.3413e-01, -2.1746e-01,\n",
       "        -3.1966e-02,  2.7610e-01, -8.4363e-02, -5.3214e-02,  1.3078e-02,\n",
       "        -8.8674e-02, -7.5560e-01,  2.7852e-01, -1.7966e-01,  5.4516e-02,\n",
       "        -3.6225e-01, -5.4268e-02,  2.7162e-01,  1.2117e-01, -5.8687e-02,\n",
       "         1.7587e-01,  2.4476e-01, -2.9933e-01, -3.4275e-02, -4.5527e-02,\n",
       "         7.3115e-02, -9.7653e-02,  1.1071e-02,  2.6626e-01, -5.1519e-01,\n",
       "        -1.8028e-01, -3.6761e-01,  1.1089e-02, -1.4245e-01,  1.6011e-01,\n",
       "         5.7145e-01, -1.7850e-01,  2.0489e-01,  4.7575e-02, -6.3877e-02,\n",
       "         7.9755e-02, -4.6400e-02,  6.0535e-03, -7.1488e-02, -2.1940e-01,\n",
       "        -2.2713e-01, -1.3085e-02,  1.6163e-01,  1.2130e-01, -1.7713e-02,\n",
       "         1.7970e-01, -6.2252e-03, -9.1823e-02, -3.5664e-01,  9.2886e-02,\n",
       "        -1.3477e-02, -2.2222e-01, -3.8798e-01,  1.2725e-01,  7.8732e-02,\n",
       "        -2.9794e-01,  1.0960e-01,  2.3082e-01, -1.0820e-03,  9.7590e-02,\n",
       "         1.4663e-01, -9.4383e-02, -1.1093e-01,  1.3396e-01, -7.2386e-02,\n",
       "         5.1326e-02,  4.6016e-01,  1.5193e-01, -2.2290e-01, -8.1087e-02,\n",
       "        -1.7030e-01,  9.0256e-04, -7.4719e-02,  2.4006e-01,  1.2035e-01,\n",
       "         2.6139e-01, -9.0656e-02,  3.4260e-01,  2.4756e-01,  3.0236e-01,\n",
       "        -6.6041e-02,  3.3887e-01,  9.1983e-03, -1.1892e-01,  1.3877e-02,\n",
       "         5.9809e-02, -4.7902e-01, -8.5219e-02,  2.7066e-01, -1.4267e-01,\n",
       "        -4.4326e-01, -2.6378e-02, -7.4530e-01,  5.8184e-01, -6.7512e-02,\n",
       "        -3.4534e-01,  1.9276e-01, -1.1401e-01,  1.8816e-01, -7.3169e-02,\n",
       "        -1.2785e-01, -9.7955e-02, -1.2290e-02, -2.5934e-02,  7.1196e-02,\n",
       "        -1.8961e-01, -1.7231e-01,  5.3079e-01,  3.7708e-01,  3.3758e-01,\n",
       "        -1.5240e-01,  7.1744e-02,  1.1312e-01, -1.2359e-02,  1.5039e-01,\n",
       "        -3.3602e-01,  1.7025e-01,  1.7788e-01, -1.2842e-01, -1.6824e-01,\n",
       "         5.8329e-02, -3.0749e-02,  1.2861e-01, -1.0580e-01,  3.5446e-01,\n",
       "         1.3658e-01, -1.3831e-01, -2.1157e-01, -1.4915e-01,  3.9058e-02,\n",
       "         3.5334e-01,  9.8280e-02,  1.2103e-02, -1.4951e-01, -1.3072e-01,\n",
       "         3.3849e-01,  6.0119e-04,  4.0760e-01,  3.1282e-01, -3.4306e-01,\n",
       "        -3.1370e-01,  2.7691e-02, -2.0264e-01, -4.1870e-02, -2.6408e-01,\n",
       "         1.9283e-01,  1.3750e-01,  1.6502e-01,  2.3268e-01,  3.0376e-02,\n",
       "        -1.2777e-01, -1.8819e-01, -3.3968e-02, -5.1417e-02, -2.9766e-01,\n",
       "         3.4721e-01,  2.5577e-01, -3.9214e-01,  5.2759e-02, -3.4140e-01,\n",
       "         2.0378e-01,  1.2661e-01, -1.3988e-01, -4.2266e-01,  5.5375e-02,\n",
       "         9.6740e-02,  7.9815e-02,  4.1541e-02, -4.4865e-02, -5.1910e-02,\n",
       "         4.4568e-01, -1.2392e-01,  1.4459e-01,  9.1322e-02,  1.6601e-01,\n",
       "        -2.9697e-02, -2.2189e-01, -2.5261e-01,  3.1845e-01, -3.5033e-03,\n",
       "         2.8935e-01, -2.6597e-02,  2.6975e-01, -2.3634e-02, -1.0730e-01,\n",
       "        -4.7722e-01,  2.3076e-02,  4.7243e-01, -2.5320e-01,  2.7085e-01,\n",
       "        -1.9235e-01, -2.6010e-02, -2.3183e-01, -1.3458e-01,  1.2691e-01,\n",
       "        -4.8350e-01,  8.8572e-02,  9.3380e-02,  4.3360e-01,  3.9145e-02,\n",
       "        -2.9399e-01,  2.8633e-02,  7.8076e-02, -6.3458e-02,  5.6376e-01,\n",
       "        -9.6665e-02,  9.8285e-02, -1.1278e-01,  2.5961e-01, -2.1017e-01,\n",
       "        -1.0611e-01,  5.0005e-02,  1.5488e-01,  4.9752e-02,  1.2137e-01,\n",
       "        -9.4334e-02, -1.1406e-01, -1.7156e-01,  3.2054e-01, -3.2006e-01,\n",
       "        -2.1702e-01,  2.2674e-01,  3.3409e-01,  1.7834e-01,  3.1995e-01,\n",
       "         2.5638e-01, -2.2703e-01, -5.8876e-02, -6.3932e-02,  1.9415e-02,\n",
       "         8.7450e-02,  1.6792e-01,  3.0857e-01,  1.2692e-01, -1.2899e-01,\n",
       "        -2.2021e-03, -1.4436e-01, -3.8374e-02, -1.5127e-01, -6.9307e-03,\n",
       "        -3.3376e-01, -9.0662e-02,  2.0311e-01,  5.6551e-01, -3.2464e-01,\n",
       "         1.7130e-01,  2.0832e-01, -6.0382e-01,  2.4642e-03, -1.1571e-01,\n",
       "        -1.2947e-01,  2.0566e-01,  2.5955e-01, -2.2050e-02, -1.4462e-01,\n",
       "         2.1580e-01,  4.4592e-02,  2.1111e-01,  2.3919e-01, -3.6727e-01,\n",
       "        -7.5623e-02,  4.3592e-01,  4.5583e-01, -2.4788e-01, -2.5892e-01,\n",
       "        -1.6737e-01,  2.0169e-01, -9.4613e-02, -2.4492e-02, -1.7431e-01,\n",
       "        -3.5989e-02, -1.2689e-01,  6.5359e-02,  8.1975e-02,  2.1781e-01,\n",
       "        -3.2398e-01,  6.8986e-03,  4.1354e-01,  1.2429e-02,  5.1552e-02,\n",
       "         3.1212e-01, -1.9942e-01,  2.6853e-01, -2.0921e-01, -1.1934e-01,\n",
       "         2.2458e-01,  3.4052e-01,  2.4282e-02, -2.5886e-02, -4.9300e-03,\n",
       "         1.9391e-02, -4.6532e-02,  2.8583e-01,  4.5385e-03,  3.1654e-01,\n",
       "        -7.6349e-02,  7.0992e-02, -1.3817e-01, -4.0394e-01,  6.1321e-03,\n",
       "         2.2771e-01,  1.1632e-01, -1.7883e-01, -6.2569e-03,  3.1470e-01,\n",
       "        -1.9904e-01, -2.1627e-01,  1.1022e-01, -3.3719e-01,  6.1890e-02,\n",
       "         3.6458e-02, -1.5291e-01,  3.4202e-01, -1.8369e-01,  2.2851e-01,\n",
       "         4.9821e-02, -5.9755e-02, -8.9388e-02,  2.7780e-01, -3.4533e-02,\n",
       "        -6.8006e-02,  1.4100e-02, -2.2900e-01, -1.6216e-01, -1.4719e-01,\n",
       "         8.1535e-02,  1.6986e-01,  1.6963e-01,  4.2686e-02,  1.4858e-01,\n",
       "        -2.0569e-01,  1.8530e-01,  7.4726e-02,  2.4734e-01, -3.2782e-01,\n",
       "         1.4084e-01, -2.7017e-01,  3.0472e-01,  1.9989e-01,  3.2865e-01,\n",
       "        -1.9602e-01,  1.0906e-01,  4.4406e-01, -5.1652e-02,  7.5494e-02,\n",
       "         1.8329e-01,  3.0482e-01, -3.9309e-01,  1.3403e-01,  2.5709e-01,\n",
       "         3.3353e-01, -2.4430e-01, -2.3456e-01, -2.4772e-01, -1.9023e-02,\n",
       "        -5.1646e-02,  2.1124e-01, -3.0221e-01, -4.3438e-02,  1.7618e-01,\n",
       "        -2.4723e-01,  1.1678e-02,  3.1808e-01, -2.1702e-01,  8.4159e-03,\n",
       "         2.3175e-02,  5.0997e-02, -4.4535e-01, -1.9809e-01, -3.1272e-01,\n",
       "        -1.4620e-01, -1.2379e-01,  1.2076e-01,  3.8961e-01,  8.8555e-03,\n",
       "        -2.0959e-01, -1.4921e-01,  6.1282e-01, -2.5941e-02, -2.0735e-01,\n",
       "        -2.1579e-02,  2.9161e-02, -7.7832e-02, -2.9252e-01,  2.4192e-01,\n",
       "        -1.2731e-01, -2.6494e-01,  1.1514e-01, -2.0962e-01,  4.4836e-01,\n",
       "         3.6992e-01, -6.5434e-01, -2.8720e-01])"
      ]
     },
     "execution_count": 22,
     "metadata": {},
     "output_type": "execute_result"
    }
   ],
   "source": [
    "texts_embedding"
   ]
  },
  {
   "cell_type": "markdown",
   "id": "a6dcb62f",
   "metadata": {},
   "source": [
    "Can also see with the feature values"
   ]
  },
  {
   "cell_type": "code",
   "execution_count": 23,
   "id": "b5ab31d6",
   "metadata": {},
   "outputs": [],
   "source": [
    "feature_embedding = FeatureEmbedding()\n",
    "texts_embedding = feature_embedding.get_text_group_embedding(feature_value)"
   ]
  },
  {
   "cell_type": "code",
   "execution_count": 24,
   "id": "4816358c",
   "metadata": {},
   "outputs": [
    {
     "data": {
      "text/plain": [
       "tensor([ 7.7606e-02,  1.8783e-01, -6.4747e-02, -2.1794e-01,  1.1396e-01,\n",
       "         1.4824e-01, -9.0422e-02,  9.8832e-02, -1.7791e-01, -1.0582e-01,\n",
       "        -2.3069e-02, -2.2108e-01,  1.6722e-02, -1.2601e-01,  3.1168e-02,\n",
       "        -7.1709e-02,  1.7809e-02, -1.1976e-01, -4.8943e-02,  2.1181e-01,\n",
       "         2.7077e-01,  2.7647e-02,  8.1773e-02, -8.3486e-02, -4.7658e-01,\n",
       "         2.3219e-01, -1.4663e-01,  4.2658e-03, -2.0219e-01, -1.0072e+00,\n",
       "         1.4415e-01, -1.8735e-01,  2.9242e-01,  2.6916e-01,  4.0289e-01,\n",
       "        -4.0014e-01, -1.9896e-01, -6.2011e-02, -2.1049e-01, -5.0244e-01,\n",
       "         4.3351e-02,  2.4406e-01, -1.2962e-01,  3.8697e-01,  2.0313e-01,\n",
       "         4.8679e-02, -2.0616e-01, -2.3819e-01,  3.2379e-02, -2.5363e-01,\n",
       "         2.9413e-01, -1.9683e-02,  1.7526e-01, -1.5257e-01, -8.4521e-02,\n",
       "         4.6180e-02,  3.0868e-03,  6.4979e-02,  1.3617e-01, -1.0620e-02,\n",
       "        -2.8229e-01, -4.8800e-01, -5.9306e-01,  3.1397e-02,  1.2631e-02,\n",
       "         2.7645e-01,  9.7091e-03,  1.7793e-01, -1.8092e-01,  1.2747e-01,\n",
       "         7.2921e-02, -3.6800e-02,  9.1193e-02,  1.2427e-02, -9.1107e-02,\n",
       "         1.0120e-01, -2.8393e-01, -1.8274e-01, -4.0279e-01, -6.7341e-02,\n",
       "         4.6347e-02,  1.7773e-01, -1.3466e-02,  1.5544e-01,  9.4754e-02,\n",
       "         1.9492e-02,  8.8690e-02,  2.8821e-02, -3.4632e-01,  1.1599e-01,\n",
       "        -1.6358e-01,  3.7469e-01,  1.2826e-01, -1.4178e-01, -3.2667e-01,\n",
       "        -2.9019e-03,  2.2361e-01, -3.3603e-01,  2.0629e-01,  7.7064e+00,\n",
       "         2.3291e-01,  1.2601e-01,  1.1082e-01, -2.1394e-01,  1.2003e-01,\n",
       "         8.5905e-02,  1.0742e-01, -1.7706e-01, -2.8484e-01, -9.2377e-02,\n",
       "         1.5133e-01, -3.5778e-01,  1.0402e-02, -1.5522e-01, -1.4115e-01,\n",
       "        -1.3453e-01, -2.0171e-02,  1.0898e-01, -3.6448e-02, -9.9187e-02,\n",
       "         1.2541e-01,  1.0989e-01,  3.7421e-04, -7.8595e-03,  5.6081e-02,\n",
       "        -1.9381e+00, -3.5329e-02,  1.1903e-01, -3.3555e-01, -2.1567e-02,\n",
       "        -9.3432e-02,  1.5947e-01,  1.2557e-01,  1.4879e-01,  1.2868e-01,\n",
       "         1.9170e-01,  2.9500e-01,  7.9064e-02,  2.8116e-01, -2.5924e-01,\n",
       "        -3.2945e-01, -3.7371e-02,  1.8342e-01, -2.3110e-01,  1.9538e-01,\n",
       "        -4.2725e-01, -1.6284e-01, -1.0602e-01,  2.8849e-02,  9.7817e-02,\n",
       "         1.9230e-01, -1.2826e-01,  2.9582e-02,  1.4234e-01,  2.4819e-02,\n",
       "        -2.0631e-01,  3.7293e-01, -7.1841e-01, -1.6605e-01,  1.2645e-01,\n",
       "         2.5866e-01, -1.8465e-01,  3.2875e-01, -5.3179e-01,  1.5339e-02,\n",
       "        -1.7489e-01,  1.5703e-01, -1.5578e-01, -9.0479e-02, -1.5516e-01,\n",
       "         7.5343e-02, -3.4170e-02,  4.7901e-02,  5.3812e-02, -3.1775e-01,\n",
       "         8.6233e-02, -1.5442e-01,  6.3940e-02,  7.4493e-02,  1.4142e-01,\n",
       "        -6.5678e-02,  4.0736e-01, -6.4838e-02, -2.0033e-01, -7.8881e-02,\n",
       "         1.1717e-01, -9.2068e-03, -6.7108e-02, -1.9660e-01, -2.4885e-01,\n",
       "        -1.3590e-01, -7.0938e-02, -1.1975e-01,  2.3818e-01,  1.1763e-01,\n",
       "        -3.8087e-02, -1.9403e-01, -9.3380e-02,  4.4020e-02, -2.0981e-01,\n",
       "        -2.1137e-01,  2.0628e-01, -2.3261e-01, -2.3823e-01,  2.0971e-01,\n",
       "        -9.6792e-02, -1.6598e-02,  4.9994e-02,  7.6499e-03,  2.6450e-01,\n",
       "         4.3696e-02, -2.6151e-01,  1.4886e-01, -5.2683e-02,  4.1312e-02,\n",
       "         5.6728e-02,  1.0774e-01,  2.0410e-01, -8.4719e-02, -2.2461e-01,\n",
       "         7.7447e-02,  2.0096e-01, -1.4055e-02, -6.6419e-02,  1.0449e-02,\n",
       "         1.2540e-01, -1.4091e-02,  2.7856e-02, -1.6949e-01,  6.8817e-02,\n",
       "        -3.9150e-01, -3.9011e-02, -3.2770e-01, -5.7093e-02, -1.7300e-01,\n",
       "        -1.1045e-01,  1.2380e-01, -3.8296e-02,  1.4058e-01, -1.4189e-01,\n",
       "        -9.6154e-02,  1.8635e-01, -1.8710e-02, -2.7990e-01,  8.9767e-02,\n",
       "        -1.2329e-01, -7.2152e-02,  2.8666e-01, -5.0787e-02,  1.9794e-01,\n",
       "        -3.3680e-02, -3.8531e-02,  4.5828e-01,  3.1361e-01,  3.2584e-01,\n",
       "        -5.2471e-02, -1.5603e-01, -1.1296e-01,  6.6454e-03,  3.0927e-01,\n",
       "         5.6006e-02, -2.3404e-01, -2.0544e-01, -2.5132e-01, -5.3619e-02,\n",
       "        -5.4089e-02,  3.8207e-02, -8.2594e-02, -1.8044e-01, -3.4583e-01,\n",
       "         2.0350e-02, -1.8898e-01,  2.2271e-01,  1.6185e-02, -1.0129e-01,\n",
       "        -6.4316e-02, -8.9805e-02,  6.3054e-02,  4.0923e-02,  2.8516e-01,\n",
       "         1.2778e-01, -1.5975e-01, -4.3225e-02, -1.0530e-01,  8.7593e-02,\n",
       "         6.7634e-02, -1.3295e-03, -6.2375e-02, -6.6304e-02, -1.3905e-01,\n",
       "         3.7736e-01, -7.4870e-02, -7.8452e-02,  1.3331e-02,  2.0639e-02,\n",
       "         6.8652e-02, -1.3881e-01,  1.3897e-01, -7.5762e-02,  1.9897e-01,\n",
       "         1.9683e-02,  2.4347e-01, -2.9799e-01, -1.1474e-01,  9.5106e-02,\n",
       "         2.7802e-02,  1.2644e-01,  2.0338e-01,  2.2264e-01, -1.5124e-01,\n",
       "        -1.2303e-01,  5.0505e-02,  8.6226e-02,  3.8426e-01, -5.3318e-02,\n",
       "         1.4393e-01, -9.8935e-02,  6.4925e-02, -3.8968e-01, -4.0471e-01,\n",
       "         1.6648e-01,  7.0292e-02,  2.6003e-01,  7.9598e-02, -8.9220e-02,\n",
       "         1.8178e-01, -3.9515e-02,  7.2186e-03, -3.7136e-01, -1.2396e-02,\n",
       "         1.0551e-01, -4.5557e-01, -5.5384e-02,  4.0014e-02,  2.1002e-01,\n",
       "         1.0030e-01, -1.2979e-01,  1.0659e-01,  4.1731e-01, -4.7190e-01,\n",
       "         2.7902e-02, -1.6152e-01,  3.4281e-01, -4.2216e-02, -2.2597e-01,\n",
       "         8.9914e-02, -2.0099e-01, -6.5549e-01, -5.4171e-02, -7.9863e-04,\n",
       "        -4.7638e-03, -2.9313e-02,  1.9489e-01,  3.9734e-02,  6.2558e-02,\n",
       "        -3.0338e-01,  2.0155e-01, -1.8743e-01,  1.4915e-03,  4.1974e-01,\n",
       "        -3.6821e-01,  2.6015e-01, -3.7401e-01, -1.3379e-01,  1.7744e-01,\n",
       "        -2.1922e-01,  9.4760e-02, -1.8768e-01, -3.1614e-01,  2.7701e-01,\n",
       "        -1.3841e-01, -5.8094e-02, -3.6561e-01,  1.8882e-01, -1.1077e-01,\n",
       "        -2.1956e-02,  2.1114e-02,  3.7294e-01, -2.1090e-02,  2.6713e-02,\n",
       "        -2.1209e-01, -1.0165e-01, -3.5655e-01,  4.0563e-01])"
      ]
     },
     "execution_count": 24,
     "metadata": {},
     "output_type": "execute_result"
    }
   ],
   "source": [
    "texts_embedding"
   ]
  }
 ],
 "metadata": {
  "kernelspec": {
   "display_name": "Python 3 (ipykernel)",
   "language": "python",
   "name": "python3"
  },
  "language_info": {
   "codemirror_mode": {
    "name": "ipython",
    "version": 3
   },
   "file_extension": ".py",
   "mimetype": "text/x-python",
   "name": "python",
   "nbconvert_exporter": "python",
   "pygments_lexer": "ipython3",
   "version": "3.9.12"
  }
 },
 "nbformat": 4,
 "nbformat_minor": 5
}
