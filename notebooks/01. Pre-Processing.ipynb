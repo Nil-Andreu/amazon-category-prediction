{
 "cells": [
  {
   "cell_type": "code",
   "execution_count": 1,
   "id": "acca8be8",
   "metadata": {},
   "outputs": [],
   "source": [
    "import os\n",
    "import re\n",
    "import json\n",
    "import gzip\n",
    "import typing\n",
    "import pandas as pd\n",
    "import seaborn as sns\n",
    "import matplotlib.pyplot as plt"
   ]
  },
  {
   "cell_type": "code",
   "execution_count": 2,
   "id": "e7558844",
   "metadata": {},
   "outputs": [],
   "source": [
    "import sys\n",
    "sys.path.append('../')"
   ]
  },
  {
   "cell_type": "code",
   "execution_count": 3,
   "id": "3ed3aee5",
   "metadata": {},
   "outputs": [],
   "source": [
    "from shared.utils.loaders.df import json_gzip_into_df, df_into_csv_gzip\n",
    "from shared.utils.pre_processing import CommonPreProcessing, PricePreProcessing"
   ]
  },
  {
   "cell_type": "markdown",
   "id": "e8932387",
   "metadata": {},
   "source": [
    "## Loading Data"
   ]
  },
  {
   "cell_type": "code",
   "execution_count": 4,
   "id": "b57533ba",
   "metadata": {},
   "outputs": [],
   "source": [
    "df = json_gzip_into_df('../shared/data/amz_products_small.jsonl.gz')"
   ]
  },
  {
   "cell_type": "code",
   "execution_count": 5,
   "id": "880c1df3",
   "metadata": {},
   "outputs": [
    {
     "data": {
      "text/html": [
       "<div>\n",
       "<style scoped>\n",
       "    .dataframe tbody tr th:only-of-type {\n",
       "        vertical-align: middle;\n",
       "    }\n",
       "\n",
       "    .dataframe tbody tr th {\n",
       "        vertical-align: top;\n",
       "    }\n",
       "\n",
       "    .dataframe thead th {\n",
       "        text-align: right;\n",
       "    }\n",
       "</style>\n",
       "<table border=\"1\" class=\"dataframe\">\n",
       "  <thead>\n",
       "    <tr style=\"text-align: right;\">\n",
       "      <th></th>\n",
       "      <th>also_buy</th>\n",
       "      <th>also_view</th>\n",
       "      <th>asin</th>\n",
       "      <th>brand</th>\n",
       "      <th>category</th>\n",
       "      <th>description</th>\n",
       "      <th>feature</th>\n",
       "      <th>image</th>\n",
       "      <th>price</th>\n",
       "      <th>title</th>\n",
       "      <th>main_cat</th>\n",
       "    </tr>\n",
       "  </thead>\n",
       "  <tbody>\n",
       "    <tr>\n",
       "      <th>0</th>\n",
       "      <td>[]</td>\n",
       "      <td>[]</td>\n",
       "      <td>B00ADZ3WUM</td>\n",
       "      <td>NSI</td>\n",
       "      <td>[Automotive, Exterior Accessories, Bumper Stic...</td>\n",
       "      <td>[Bumpersticker: A day without sunshine is like...</td>\n",
       "      <td>[Official Licensed Die-Cut Sticker Designed by...</td>\n",
       "      <td>[]</td>\n",
       "      <td>$4.68</td>\n",
       "      <td>NSI - A Day Without Sunshine is Like, Well, Ni...</td>\n",
       "      <td>Automotive</td>\n",
       "    </tr>\n",
       "    <tr>\n",
       "      <th>1</th>\n",
       "      <td>[]</td>\n",
       "      <td>[]</td>\n",
       "      <td>B005VII5IU</td>\n",
       "      <td>General Motors</td>\n",
       "      <td>[Automotive, Replacement Parts, Body &amp; Trim, B...</td>\n",
       "      <td>[This is the official Genuine General Motors P...</td>\n",
       "      <td>[This is the official Genuine General Motors P...</td>\n",
       "      <td>[]</td>\n",
       "      <td>$213.16</td>\n",
       "      <td>Genuine GM Parts 10341533 Rear Bumper Valance ...</td>\n",
       "      <td>Automotive</td>\n",
       "    </tr>\n",
       "    <tr>\n",
       "      <th>2</th>\n",
       "      <td>[]</td>\n",
       "      <td>[]</td>\n",
       "      <td>B001QTEKVO</td>\n",
       "      <td>JLM</td>\n",
       "      <td>[Automotive, Lights &amp; Lighting Accessories, Li...</td>\n",
       "      <td>[HID Xenon lights are designed to be at least ...</td>\n",
       "      <td>[Will run for approx 2500 hours, Produces 2 to...</td>\n",
       "      <td>[https://images-na.ssl-images-amazon.com/image...</td>\n",
       "      <td></td>\n",
       "      <td>JLM HID Conversion Kit H13 (9008) Dual Tube B...</td>\n",
       "      <td>Automotive</td>\n",
       "    </tr>\n",
       "  </tbody>\n",
       "</table>\n",
       "</div>"
      ],
      "text/plain": [
       "  also_buy also_view        asin           brand  \\\n",
       "0       []        []  B00ADZ3WUM             NSI   \n",
       "1       []        []  B005VII5IU  General Motors   \n",
       "2       []        []  B001QTEKVO             JLM   \n",
       "\n",
       "                                            category  \\\n",
       "0  [Automotive, Exterior Accessories, Bumper Stic...   \n",
       "1  [Automotive, Replacement Parts, Body & Trim, B...   \n",
       "2  [Automotive, Lights & Lighting Accessories, Li...   \n",
       "\n",
       "                                         description  \\\n",
       "0  [Bumpersticker: A day without sunshine is like...   \n",
       "1  [This is the official Genuine General Motors P...   \n",
       "2  [HID Xenon lights are designed to be at least ...   \n",
       "\n",
       "                                             feature  \\\n",
       "0  [Official Licensed Die-Cut Sticker Designed by...   \n",
       "1  [This is the official Genuine General Motors P...   \n",
       "2  [Will run for approx 2500 hours, Produces 2 to...   \n",
       "\n",
       "                                               image    price  \\\n",
       "0                                                 []    $4.68   \n",
       "1                                                 []  $213.16   \n",
       "2  [https://images-na.ssl-images-amazon.com/image...            \n",
       "\n",
       "                                               title    main_cat  \n",
       "0  NSI - A Day Without Sunshine is Like, Well, Ni...  Automotive  \n",
       "1  Genuine GM Parts 10341533 Rear Bumper Valance ...  Automotive  \n",
       "2   JLM HID Conversion Kit H13 (9008) Dual Tube B...  Automotive  "
      ]
     },
     "execution_count": 5,
     "metadata": {},
     "output_type": "execute_result"
    }
   ],
   "source": [
    "df.head(3)"
   ]
  },
  {
   "cell_type": "markdown",
   "id": "23588a64",
   "metadata": {},
   "source": [
    "## Pre-Processing Data"
   ]
  },
  {
   "cell_type": "code",
   "execution_count": 6,
   "id": "23c2a1db",
   "metadata": {},
   "outputs": [
    {
     "data": {
      "text/plain": [
       "1214935"
      ]
     },
     "execution_count": 6,
     "metadata": {},
     "output_type": "execute_result"
    }
   ],
   "source": [
    "df['title'].nunique()"
   ]
  },
  {
   "cell_type": "code",
   "execution_count": 7,
   "id": "8a70f5fe",
   "metadata": {},
   "outputs": [
    {
     "data": {
      "text/plain": [
       "also_buy       0\n",
       "also_view      0\n",
       "asin           0\n",
       "brand          0\n",
       "category       0\n",
       "description    0\n",
       "feature        0\n",
       "image          0\n",
       "price          0\n",
       "title          0\n",
       "main_cat       0\n",
       "dtype: int64"
      ]
     },
     "execution_count": 7,
     "metadata": {},
     "output_type": "execute_result"
    }
   ],
   "source": [
    "df.isnull().sum(axis=0)"
   ]
  },
  {
   "cell_type": "code",
   "execution_count": 13,
   "id": "de19dba6",
   "metadata": {},
   "outputs": [],
   "source": [
    "# Would remove the 'category' column\n",
    "df.drop(['category'], axis=1, inplace=True)"
   ]
  },
  {
   "cell_type": "markdown",
   "id": "cc752042",
   "metadata": {},
   "source": [
    "#### General Pre-Processing"
   ]
  },
  {
   "cell_type": "markdown",
   "id": "b42444b7",
   "metadata": {},
   "source": [
    "Some of the data types are incorrect, and also we will handle the nulls for the columns of:\n",
    "- brand\n",
    "- also_buy\n",
    "- also_view\n",
    "- feature\n",
    "- image\n",
    "- price"
   ]
  },
  {
   "cell_type": "code",
   "execution_count": 14,
   "id": "da61d816",
   "metadata": {},
   "outputs": [],
   "source": [
    "common_pre_processing = CommonPreProcessing(df)"
   ]
  },
  {
   "cell_type": "markdown",
   "id": "0c9fc617",
   "metadata": {},
   "source": [
    "First, we will handle the missing values by putting a None in the dataframe."
   ]
  },
  {
   "cell_type": "code",
   "execution_count": 15,
   "id": "13973b42",
   "metadata": {},
   "outputs": [
    {
     "data": {
      "text/html": [
       "<div>\n",
       "<style scoped>\n",
       "    .dataframe tbody tr th:only-of-type {\n",
       "        vertical-align: middle;\n",
       "    }\n",
       "\n",
       "    .dataframe tbody tr th {\n",
       "        vertical-align: top;\n",
       "    }\n",
       "\n",
       "    .dataframe thead th {\n",
       "        text-align: right;\n",
       "    }\n",
       "</style>\n",
       "<table border=\"1\" class=\"dataframe\">\n",
       "  <thead>\n",
       "    <tr style=\"text-align: right;\">\n",
       "      <th></th>\n",
       "      <th>also_buy</th>\n",
       "      <th>also_view</th>\n",
       "      <th>asin</th>\n",
       "      <th>brand</th>\n",
       "      <th>description</th>\n",
       "      <th>feature</th>\n",
       "      <th>image</th>\n",
       "      <th>price</th>\n",
       "      <th>title</th>\n",
       "      <th>main_cat</th>\n",
       "    </tr>\n",
       "  </thead>\n",
       "  <tbody>\n",
       "    <tr>\n",
       "      <th>0</th>\n",
       "      <td>None</td>\n",
       "      <td>None</td>\n",
       "      <td>B00ADZ3WUM</td>\n",
       "      <td>NSI</td>\n",
       "      <td>(Bumpersticker: A day without sunshine is like...</td>\n",
       "      <td>(Official Licensed Die-Cut Sticker Designed by...</td>\n",
       "      <td>None</td>\n",
       "      <td>$4.68</td>\n",
       "      <td>NSI - A Day Without Sunshine is Like, Well, Ni...</td>\n",
       "      <td>Automotive</td>\n",
       "    </tr>\n",
       "    <tr>\n",
       "      <th>1</th>\n",
       "      <td>None</td>\n",
       "      <td>None</td>\n",
       "      <td>B005VII5IU</td>\n",
       "      <td>General Motors</td>\n",
       "      <td>(This is the official Genuine General Motors P...</td>\n",
       "      <td>(This is the official Genuine General Motors P...</td>\n",
       "      <td>None</td>\n",
       "      <td>$213.16</td>\n",
       "      <td>Genuine GM Parts 10341533 Rear Bumper Valance ...</td>\n",
       "      <td>Automotive</td>\n",
       "    </tr>\n",
       "    <tr>\n",
       "      <th>2</th>\n",
       "      <td>None</td>\n",
       "      <td>None</td>\n",
       "      <td>B001QTEKVO</td>\n",
       "      <td>JLM</td>\n",
       "      <td>(HID Xenon lights are designed to be at least ...</td>\n",
       "      <td>(Will run for approx 2500 hours, Produces 2 to...</td>\n",
       "      <td>(https://images-na.ssl-images-amazon.com/image...</td>\n",
       "      <td>None</td>\n",
       "      <td>JLM HID Conversion Kit H13 (9008) Dual Tube B...</td>\n",
       "      <td>Automotive</td>\n",
       "    </tr>\n",
       "    <tr>\n",
       "      <th>3</th>\n",
       "      <td>None</td>\n",
       "      <td>(B007KLMLRM, B007KLMNNE, B0085FOJ90, B0085FOAW...</td>\n",
       "      <td>B00HWI43Q0</td>\n",
       "      <td>Spec-D Tuning</td>\n",
       "      <td>(Brand new in original packaging. Exactly the ...</td>\n",
       "      <td>(Features 1 pair of Red &amp; Smoked lens Tail Lig...</td>\n",
       "      <td>(https://images-na.ssl-images-amazon.com/image...</td>\n",
       "      <td>$8.63</td>\n",
       "      <td>Spec-D Tuning LT-E362RG-F2-APC New 3D Light Ba...</td>\n",
       "      <td>Automotive</td>\n",
       "    </tr>\n",
       "    <tr>\n",
       "      <th>4</th>\n",
       "      <td>None</td>\n",
       "      <td>None</td>\n",
       "      <td>B0050VHRFK</td>\n",
       "      <td>Oracle Lighting</td>\n",
       "      <td>(Oracle Flush LED switches combines styling an...</td>\n",
       "      <td>(Heavy stainless steel construction, LED illum...</td>\n",
       "      <td>(https://images-na.ssl-images-amazon.com/image...</td>\n",
       "      <td>$19.95</td>\n",
       "      <td>Oracle Lighting LSGQ16FW White LED On/Off Flus...</td>\n",
       "      <td>Automotive</td>\n",
       "    </tr>\n",
       "  </tbody>\n",
       "</table>\n",
       "</div>"
      ],
      "text/plain": [
       "  also_buy                                          also_view        asin  \\\n",
       "0     None                                               None  B00ADZ3WUM   \n",
       "1     None                                               None  B005VII5IU   \n",
       "2     None                                               None  B001QTEKVO   \n",
       "3     None  (B007KLMLRM, B007KLMNNE, B0085FOJ90, B0085FOAW...  B00HWI43Q0   \n",
       "4     None                                               None  B0050VHRFK   \n",
       "\n",
       "             brand                                        description  \\\n",
       "0              NSI  (Bumpersticker: A day without sunshine is like...   \n",
       "1   General Motors  (This is the official Genuine General Motors P...   \n",
       "2              JLM  (HID Xenon lights are designed to be at least ...   \n",
       "3    Spec-D Tuning  (Brand new in original packaging. Exactly the ...   \n",
       "4  Oracle Lighting  (Oracle Flush LED switches combines styling an...   \n",
       "\n",
       "                                             feature  \\\n",
       "0  (Official Licensed Die-Cut Sticker Designed by...   \n",
       "1  (This is the official Genuine General Motors P...   \n",
       "2  (Will run for approx 2500 hours, Produces 2 to...   \n",
       "3  (Features 1 pair of Red & Smoked lens Tail Lig...   \n",
       "4  (Heavy stainless steel construction, LED illum...   \n",
       "\n",
       "                                               image    price  \\\n",
       "0                                               None    $4.68   \n",
       "1                                               None  $213.16   \n",
       "2  (https://images-na.ssl-images-amazon.com/image...     None   \n",
       "3  (https://images-na.ssl-images-amazon.com/image...    $8.63   \n",
       "4  (https://images-na.ssl-images-amazon.com/image...   $19.95   \n",
       "\n",
       "                                               title    main_cat  \n",
       "0  NSI - A Day Without Sunshine is Like, Well, Ni...  Automotive  \n",
       "1  Genuine GM Parts 10341533 Rear Bumper Valance ...  Automotive  \n",
       "2   JLM HID Conversion Kit H13 (9008) Dual Tube B...  Automotive  \n",
       "3  Spec-D Tuning LT-E362RG-F2-APC New 3D Light Ba...  Automotive  \n",
       "4  Oracle Lighting LSGQ16FW White LED On/Off Flus...  Automotive  "
      ]
     },
     "execution_count": 15,
     "metadata": {},
     "output_type": "execute_result"
    }
   ],
   "source": [
    "common_pre_processing.handle_nan_columns().head()"
   ]
  },
  {
   "cell_type": "markdown",
   "id": "dca295e5",
   "metadata": {},
   "source": [
    "For some of the columns we have list values. We will replace them with Tuples, so then we could see if there are any duplicates."
   ]
  },
  {
   "cell_type": "code",
   "execution_count": 16,
   "id": "fed0ead0",
   "metadata": {},
   "outputs": [
    {
     "data": {
      "text/html": [
       "<div>\n",
       "<style scoped>\n",
       "    .dataframe tbody tr th:only-of-type {\n",
       "        vertical-align: middle;\n",
       "    }\n",
       "\n",
       "    .dataframe tbody tr th {\n",
       "        vertical-align: top;\n",
       "    }\n",
       "\n",
       "    .dataframe thead th {\n",
       "        text-align: right;\n",
       "    }\n",
       "</style>\n",
       "<table border=\"1\" class=\"dataframe\">\n",
       "  <thead>\n",
       "    <tr style=\"text-align: right;\">\n",
       "      <th></th>\n",
       "      <th>also_buy</th>\n",
       "      <th>also_view</th>\n",
       "      <th>asin</th>\n",
       "      <th>brand</th>\n",
       "      <th>description</th>\n",
       "      <th>feature</th>\n",
       "      <th>image</th>\n",
       "      <th>price</th>\n",
       "      <th>title</th>\n",
       "      <th>main_cat</th>\n",
       "    </tr>\n",
       "  </thead>\n",
       "  <tbody>\n",
       "    <tr>\n",
       "      <th>0</th>\n",
       "      <td>None</td>\n",
       "      <td>None</td>\n",
       "      <td>B00ADZ3WUM</td>\n",
       "      <td>NSI</td>\n",
       "      <td>(Bumpersticker: A day without sunshine is like...</td>\n",
       "      <td>(Official Licensed Die-Cut Sticker Designed by...</td>\n",
       "      <td>None</td>\n",
       "      <td>$4.68</td>\n",
       "      <td>NSI - A Day Without Sunshine is Like, Well, Ni...</td>\n",
       "      <td>Automotive</td>\n",
       "    </tr>\n",
       "    <tr>\n",
       "      <th>1</th>\n",
       "      <td>None</td>\n",
       "      <td>None</td>\n",
       "      <td>B005VII5IU</td>\n",
       "      <td>General Motors</td>\n",
       "      <td>(This is the official Genuine General Motors P...</td>\n",
       "      <td>(This is the official Genuine General Motors P...</td>\n",
       "      <td>None</td>\n",
       "      <td>$213.16</td>\n",
       "      <td>Genuine GM Parts 10341533 Rear Bumper Valance ...</td>\n",
       "      <td>Automotive</td>\n",
       "    </tr>\n",
       "    <tr>\n",
       "      <th>2</th>\n",
       "      <td>None</td>\n",
       "      <td>None</td>\n",
       "      <td>B001QTEKVO</td>\n",
       "      <td>JLM</td>\n",
       "      <td>(HID Xenon lights are designed to be at least ...</td>\n",
       "      <td>(Will run for approx 2500 hours, Produces 2 to...</td>\n",
       "      <td>(https://images-na.ssl-images-amazon.com/image...</td>\n",
       "      <td>None</td>\n",
       "      <td>JLM HID Conversion Kit H13 (9008) Dual Tube B...</td>\n",
       "      <td>Automotive</td>\n",
       "    </tr>\n",
       "    <tr>\n",
       "      <th>3</th>\n",
       "      <td>None</td>\n",
       "      <td>(B007KLMLRM, B007KLMNNE, B0085FOJ90, B0085FOAW...</td>\n",
       "      <td>B00HWI43Q0</td>\n",
       "      <td>Spec-D Tuning</td>\n",
       "      <td>(Brand new in original packaging. Exactly the ...</td>\n",
       "      <td>(Features 1 pair of Red &amp; Smoked lens Tail Lig...</td>\n",
       "      <td>(https://images-na.ssl-images-amazon.com/image...</td>\n",
       "      <td>$8.63</td>\n",
       "      <td>Spec-D Tuning LT-E362RG-F2-APC New 3D Light Ba...</td>\n",
       "      <td>Automotive</td>\n",
       "    </tr>\n",
       "    <tr>\n",
       "      <th>4</th>\n",
       "      <td>None</td>\n",
       "      <td>None</td>\n",
       "      <td>B0050VHRFK</td>\n",
       "      <td>Oracle Lighting</td>\n",
       "      <td>(Oracle Flush LED switches combines styling an...</td>\n",
       "      <td>(Heavy stainless steel construction, LED illum...</td>\n",
       "      <td>(https://images-na.ssl-images-amazon.com/image...</td>\n",
       "      <td>$19.95</td>\n",
       "      <td>Oracle Lighting LSGQ16FW White LED On/Off Flus...</td>\n",
       "      <td>Automotive</td>\n",
       "    </tr>\n",
       "  </tbody>\n",
       "</table>\n",
       "</div>"
      ],
      "text/plain": [
       "  also_buy                                          also_view        asin  \\\n",
       "0     None                                               None  B00ADZ3WUM   \n",
       "1     None                                               None  B005VII5IU   \n",
       "2     None                                               None  B001QTEKVO   \n",
       "3     None  (B007KLMLRM, B007KLMNNE, B0085FOJ90, B0085FOAW...  B00HWI43Q0   \n",
       "4     None                                               None  B0050VHRFK   \n",
       "\n",
       "             brand                                        description  \\\n",
       "0              NSI  (Bumpersticker: A day without sunshine is like...   \n",
       "1   General Motors  (This is the official Genuine General Motors P...   \n",
       "2              JLM  (HID Xenon lights are designed to be at least ...   \n",
       "3    Spec-D Tuning  (Brand new in original packaging. Exactly the ...   \n",
       "4  Oracle Lighting  (Oracle Flush LED switches combines styling an...   \n",
       "\n",
       "                                             feature  \\\n",
       "0  (Official Licensed Die-Cut Sticker Designed by...   \n",
       "1  (This is the official Genuine General Motors P...   \n",
       "2  (Will run for approx 2500 hours, Produces 2 to...   \n",
       "3  (Features 1 pair of Red & Smoked lens Tail Lig...   \n",
       "4  (Heavy stainless steel construction, LED illum...   \n",
       "\n",
       "                                               image    price  \\\n",
       "0                                               None    $4.68   \n",
       "1                                               None  $213.16   \n",
       "2  (https://images-na.ssl-images-amazon.com/image...     None   \n",
       "3  (https://images-na.ssl-images-amazon.com/image...    $8.63   \n",
       "4  (https://images-na.ssl-images-amazon.com/image...   $19.95   \n",
       "\n",
       "                                               title    main_cat  \n",
       "0  NSI - A Day Without Sunshine is Like, Well, Ni...  Automotive  \n",
       "1  Genuine GM Parts 10341533 Rear Bumper Valance ...  Automotive  \n",
       "2   JLM HID Conversion Kit H13 (9008) Dual Tube B...  Automotive  \n",
       "3  Spec-D Tuning LT-E362RG-F2-APC New 3D Light Ba...  Automotive  \n",
       "4  Oracle Lighting LSGQ16FW White LED On/Off Flus...  Automotive  "
      ]
     },
     "execution_count": 16,
     "metadata": {},
     "output_type": "execute_result"
    }
   ],
   "source": [
    "common_pre_processing.convert_list_to_tuple().head()"
   ]
  },
  {
   "cell_type": "markdown",
   "id": "ad0f5b15",
   "metadata": {},
   "source": [
    "Finally, we will remove the duplicates rows."
   ]
  },
  {
   "cell_type": "code",
   "execution_count": 17,
   "id": "120d8766",
   "metadata": {},
   "outputs": [
    {
     "data": {
      "text/html": [
       "<div>\n",
       "<style scoped>\n",
       "    .dataframe tbody tr th:only-of-type {\n",
       "        vertical-align: middle;\n",
       "    }\n",
       "\n",
       "    .dataframe tbody tr th {\n",
       "        vertical-align: top;\n",
       "    }\n",
       "\n",
       "    .dataframe thead th {\n",
       "        text-align: right;\n",
       "    }\n",
       "</style>\n",
       "<table border=\"1\" class=\"dataframe\">\n",
       "  <thead>\n",
       "    <tr style=\"text-align: right;\">\n",
       "      <th></th>\n",
       "      <th>also_buy</th>\n",
       "      <th>also_view</th>\n",
       "      <th>asin</th>\n",
       "      <th>brand</th>\n",
       "      <th>description</th>\n",
       "      <th>feature</th>\n",
       "      <th>image</th>\n",
       "      <th>price</th>\n",
       "      <th>title</th>\n",
       "      <th>main_cat</th>\n",
       "    </tr>\n",
       "  </thead>\n",
       "  <tbody>\n",
       "    <tr>\n",
       "      <th>0</th>\n",
       "      <td>None</td>\n",
       "      <td>None</td>\n",
       "      <td>B00ADZ3WUM</td>\n",
       "      <td>NSI</td>\n",
       "      <td>(Bumpersticker: A day without sunshine is like...</td>\n",
       "      <td>(Official Licensed Die-Cut Sticker Designed by...</td>\n",
       "      <td>None</td>\n",
       "      <td>$4.68</td>\n",
       "      <td>NSI - A Day Without Sunshine is Like, Well, Ni...</td>\n",
       "      <td>Automotive</td>\n",
       "    </tr>\n",
       "    <tr>\n",
       "      <th>1</th>\n",
       "      <td>None</td>\n",
       "      <td>None</td>\n",
       "      <td>B005VII5IU</td>\n",
       "      <td>General Motors</td>\n",
       "      <td>(This is the official Genuine General Motors P...</td>\n",
       "      <td>(This is the official Genuine General Motors P...</td>\n",
       "      <td>None</td>\n",
       "      <td>$213.16</td>\n",
       "      <td>Genuine GM Parts 10341533 Rear Bumper Valance ...</td>\n",
       "      <td>Automotive</td>\n",
       "    </tr>\n",
       "    <tr>\n",
       "      <th>2</th>\n",
       "      <td>None</td>\n",
       "      <td>None</td>\n",
       "      <td>B001QTEKVO</td>\n",
       "      <td>JLM</td>\n",
       "      <td>(HID Xenon lights are designed to be at least ...</td>\n",
       "      <td>(Will run for approx 2500 hours, Produces 2 to...</td>\n",
       "      <td>(https://images-na.ssl-images-amazon.com/image...</td>\n",
       "      <td>None</td>\n",
       "      <td>JLM HID Conversion Kit H13 (9008) Dual Tube B...</td>\n",
       "      <td>Automotive</td>\n",
       "    </tr>\n",
       "    <tr>\n",
       "      <th>3</th>\n",
       "      <td>None</td>\n",
       "      <td>(B007KLMLRM, B007KLMNNE, B0085FOJ90, B0085FOAW...</td>\n",
       "      <td>B00HWI43Q0</td>\n",
       "      <td>Spec-D Tuning</td>\n",
       "      <td>(Brand new in original packaging. Exactly the ...</td>\n",
       "      <td>(Features 1 pair of Red &amp; Smoked lens Tail Lig...</td>\n",
       "      <td>(https://images-na.ssl-images-amazon.com/image...</td>\n",
       "      <td>$8.63</td>\n",
       "      <td>Spec-D Tuning LT-E362RG-F2-APC New 3D Light Ba...</td>\n",
       "      <td>Automotive</td>\n",
       "    </tr>\n",
       "    <tr>\n",
       "      <th>4</th>\n",
       "      <td>None</td>\n",
       "      <td>None</td>\n",
       "      <td>B0050VHRFK</td>\n",
       "      <td>Oracle Lighting</td>\n",
       "      <td>(Oracle Flush LED switches combines styling an...</td>\n",
       "      <td>(Heavy stainless steel construction, LED illum...</td>\n",
       "      <td>(https://images-na.ssl-images-amazon.com/image...</td>\n",
       "      <td>$19.95</td>\n",
       "      <td>Oracle Lighting LSGQ16FW White LED On/Off Flus...</td>\n",
       "      <td>Automotive</td>\n",
       "    </tr>\n",
       "  </tbody>\n",
       "</table>\n",
       "</div>"
      ],
      "text/plain": [
       "  also_buy                                          also_view        asin  \\\n",
       "0     None                                               None  B00ADZ3WUM   \n",
       "1     None                                               None  B005VII5IU   \n",
       "2     None                                               None  B001QTEKVO   \n",
       "3     None  (B007KLMLRM, B007KLMNNE, B0085FOJ90, B0085FOAW...  B00HWI43Q0   \n",
       "4     None                                               None  B0050VHRFK   \n",
       "\n",
       "             brand                                        description  \\\n",
       "0              NSI  (Bumpersticker: A day without sunshine is like...   \n",
       "1   General Motors  (This is the official Genuine General Motors P...   \n",
       "2              JLM  (HID Xenon lights are designed to be at least ...   \n",
       "3    Spec-D Tuning  (Brand new in original packaging. Exactly the ...   \n",
       "4  Oracle Lighting  (Oracle Flush LED switches combines styling an...   \n",
       "\n",
       "                                             feature  \\\n",
       "0  (Official Licensed Die-Cut Sticker Designed by...   \n",
       "1  (This is the official Genuine General Motors P...   \n",
       "2  (Will run for approx 2500 hours, Produces 2 to...   \n",
       "3  (Features 1 pair of Red & Smoked lens Tail Lig...   \n",
       "4  (Heavy stainless steel construction, LED illum...   \n",
       "\n",
       "                                               image    price  \\\n",
       "0                                               None    $4.68   \n",
       "1                                               None  $213.16   \n",
       "2  (https://images-na.ssl-images-amazon.com/image...     None   \n",
       "3  (https://images-na.ssl-images-amazon.com/image...    $8.63   \n",
       "4  (https://images-na.ssl-images-amazon.com/image...   $19.95   \n",
       "\n",
       "                                               title    main_cat  \n",
       "0  NSI - A Day Without Sunshine is Like, Well, Ni...  Automotive  \n",
       "1  Genuine GM Parts 10341533 Rear Bumper Valance ...  Automotive  \n",
       "2   JLM HID Conversion Kit H13 (9008) Dual Tube B...  Automotive  \n",
       "3  Spec-D Tuning LT-E362RG-F2-APC New 3D Light Ba...  Automotive  \n",
       "4  Oracle Lighting LSGQ16FW White LED On/Off Flus...  Automotive  "
      ]
     },
     "execution_count": 17,
     "metadata": {},
     "output_type": "execute_result"
    }
   ],
   "source": [
    "df_common_pre_processed = common_pre_processing.remove_duplicated_rows()\n",
    "df_common_pre_processed.head()"
   ]
  },
  {
   "cell_type": "code",
   "execution_count": 18,
   "id": "7f465399",
   "metadata": {},
   "outputs": [
    {
     "data": {
      "text/plain": [
       "0.9845252027167205"
      ]
     },
     "execution_count": 18,
     "metadata": {},
     "output_type": "execute_result"
    }
   ],
   "source": [
    "df_common_pre_processed.shape[0] / df.shape[0]"
   ]
  },
  {
   "cell_type": "markdown",
   "id": "11b83bcc",
   "metadata": {},
   "source": [
    "About 1.5% of the rows were duplicated."
   ]
  },
  {
   "cell_type": "markdown",
   "id": "c5c226b4",
   "metadata": {},
   "source": [
    "#### Price Pre-Processing"
   ]
  },
  {
   "cell_type": "markdown",
   "id": "4e65f97b",
   "metadata": {},
   "source": [
    "We can check also that the price, is a string. And for it to be useful, should be converted into a float."
   ]
  },
  {
   "cell_type": "markdown",
   "id": "a6d61be4",
   "metadata": {},
   "source": [
    "But you can find that some values in the price are not as expected. For example: \n",
    "```\n",
    "    'a-box-inner{background-color:#fff}#alohaBuyBoxWidget .selected{background-color:#fffbf3;border-color:#e77600;box-shadow:0 0 3px rgba(228,121,17,.5)}#alohaBuyBoxWidget .contract-not-available{color:gray}#aloha-cart-popover .aloha-cart{height:auto;overflow:hidden}#aloha-cart-popover #aloha-cartInfo{float:left}#aloha-cart-popover #aloha-cart-details{float:right...\n",
    "```\n",
    "\n",
    "Which seems a part of CSS code.\n",
    "\n",
    "So using the before function alone will encounter errors with those strings that are not representing a real price."
   ]
  },
  {
   "cell_type": "code",
   "execution_count": 19,
   "id": "131fe7bf",
   "metadata": {},
   "outputs": [
    {
     "data": {
      "text/html": [
       "<div>\n",
       "<style scoped>\n",
       "    .dataframe tbody tr th:only-of-type {\n",
       "        vertical-align: middle;\n",
       "    }\n",
       "\n",
       "    .dataframe tbody tr th {\n",
       "        vertical-align: top;\n",
       "    }\n",
       "\n",
       "    .dataframe thead th {\n",
       "        text-align: right;\n",
       "    }\n",
       "</style>\n",
       "<table border=\"1\" class=\"dataframe\">\n",
       "  <thead>\n",
       "    <tr style=\"text-align: right;\">\n",
       "      <th></th>\n",
       "      <th>also_buy</th>\n",
       "      <th>also_view</th>\n",
       "      <th>asin</th>\n",
       "      <th>brand</th>\n",
       "      <th>description</th>\n",
       "      <th>feature</th>\n",
       "      <th>image</th>\n",
       "      <th>price</th>\n",
       "      <th>title</th>\n",
       "      <th>main_cat</th>\n",
       "    </tr>\n",
       "  </thead>\n",
       "  <tbody>\n",
       "    <tr>\n",
       "      <th>173</th>\n",
       "      <td>None</td>\n",
       "      <td>None</td>\n",
       "      <td>B00SMX7WN0</td>\n",
       "      <td>WOW Trim</td>\n",
       "      <td>(An easy way to enhance your vehicles interior...</td>\n",
       "      <td>None</td>\n",
       "      <td>(https://images-na.ssl-images-amazon.com/image...</td>\n",
       "      <td>.a-box-inner{background-color:#fff}#alohaBuyBo...</td>\n",
       "      <td>Dash Overlay Kit ITEM# VWGF10A-SCF Volkswagen ...</td>\n",
       "      <td>Automotive</td>\n",
       "    </tr>\n",
       "    <tr>\n",
       "      <th>389</th>\n",
       "      <td>None</td>\n",
       "      <td>(B000COUMBG, B000HLT0SK, B00029JKA0)</td>\n",
       "      <td>B000COW6C4</td>\n",
       "      <td>MSD</td>\n",
       "      <td>(The MSD universal replacement wire is 48 In. ...</td>\n",
       "      <td>None</td>\n",
       "      <td>None</td>\n",
       "      <td>.a-box-inner{background-color:#fff}#alohaBuyBo...</td>\n",
       "      <td>MSD 34063 Black 8.5mm 4' Long Spark Plug Wire</td>\n",
       "      <td>Automotive</td>\n",
       "    </tr>\n",
       "    <tr>\n",
       "      <th>434</th>\n",
       "      <td>None</td>\n",
       "      <td>None</td>\n",
       "      <td>B000C06YQM</td>\n",
       "      <td>Champ Labs</td>\n",
       "      <td>(AIR FILTER,)</td>\n",
       "      <td>None</td>\n",
       "      <td>None</td>\n",
       "      <td>.a-box-inner{background-color:#fff}#alohaBuyBo...</td>\n",
       "      <td>Champ Labs AF7946 Air Filter</td>\n",
       "      <td>Automotive</td>\n",
       "    </tr>\n",
       "  </tbody>\n",
       "</table>\n",
       "</div>"
      ],
      "text/plain": [
       "    also_buy                             also_view        asin       brand  \\\n",
       "173     None                                  None  B00SMX7WN0    WOW Trim   \n",
       "389     None  (B000COUMBG, B000HLT0SK, B00029JKA0)  B000COW6C4         MSD   \n",
       "434     None                                  None  B000C06YQM  Champ Labs   \n",
       "\n",
       "                                           description feature  \\\n",
       "173  (An easy way to enhance your vehicles interior...    None   \n",
       "389  (The MSD universal replacement wire is 48 In. ...    None   \n",
       "434                                      (AIR FILTER,)    None   \n",
       "\n",
       "                                                 image  \\\n",
       "173  (https://images-na.ssl-images-amazon.com/image...   \n",
       "389                                               None   \n",
       "434                                               None   \n",
       "\n",
       "                                                 price  \\\n",
       "173  .a-box-inner{background-color:#fff}#alohaBuyBo...   \n",
       "389  .a-box-inner{background-color:#fff}#alohaBuyBo...   \n",
       "434  .a-box-inner{background-color:#fff}#alohaBuyBo...   \n",
       "\n",
       "                                                 title    main_cat  \n",
       "173  Dash Overlay Kit ITEM# VWGF10A-SCF Volkswagen ...  Automotive  \n",
       "389      MSD 34063 Black 8.5mm 4' Long Spark Plug Wire  Automotive  \n",
       "434                       Champ Labs AF7946 Air Filter  Automotive  "
      ]
     },
     "execution_count": 19,
     "metadata": {},
     "output_type": "execute_result"
    }
   ],
   "source": [
    "# Some examples of unexpected strings (about 35k of wrong values)\n",
    "df_common_pre_processed[df_common_pre_processed.price.str.len() > 10].head(3)"
   ]
  },
  {
   "cell_type": "code",
   "execution_count": 20,
   "id": "acc55851",
   "metadata": {},
   "outputs": [],
   "source": [
    "price_pre_processing = PricePreProcessing(df_common_pre_processed)"
   ]
  },
  {
   "cell_type": "markdown",
   "id": "ab2a6722",
   "metadata": {},
   "source": [
    "Basically, we will try to apply converting the price into a float (by removing the dollar sign and then converting the data type)."
   ]
  },
  {
   "cell_type": "code",
   "execution_count": 21,
   "id": "8c7ad096",
   "metadata": {},
   "outputs": [],
   "source": [
    "df_pre_processed = price_pre_processing.pre_process()"
   ]
  },
  {
   "cell_type": "code",
   "execution_count": 22,
   "id": "5be84065",
   "metadata": {},
   "outputs": [
    {
     "data": {
      "text/plain": [
       "also_buy                                                    None\n",
       "also_view                                                   None\n",
       "asin                                                  B00SMX7WN0\n",
       "brand                                                   WOW Trim\n",
       "description    (An easy way to enhance your vehicles interior...\n",
       "feature                                                     None\n",
       "image          (https://images-na.ssl-images-amazon.com/image...\n",
       "price                                                        NaN\n",
       "title          Dash Overlay Kit ITEM# VWGF10A-SCF Volkswagen ...\n",
       "main_cat                                              Automotive\n",
       "Name: 173, dtype: object"
      ]
     },
     "execution_count": 22,
     "metadata": {},
     "output_type": "execute_result"
    }
   ],
   "source": [
    "# Now this value is as None\n",
    "df_common_pre_processed.loc[173, :]"
   ]
  },
  {
   "cell_type": "code",
   "execution_count": 23,
   "id": "951e7d0a",
   "metadata": {},
   "outputs": [
    {
     "data": {
      "text/plain": [
       "also_buy       0.716662\n",
       "also_view      0.650547\n",
       "asin           0.000000\n",
       "brand          0.029507\n",
       "description    0.000000\n",
       "feature        0.287128\n",
       "image          0.481971\n",
       "price          0.469452\n",
       "title          0.000020\n",
       "main_cat       0.000000\n",
       "dtype: float64"
      ]
     },
     "execution_count": 23,
     "metadata": {},
     "output_type": "execute_result"
    }
   ],
   "source": [
    "df_common_pre_processed.isnull().sum(axis=0) / len(df)"
   ]
  },
  {
   "cell_type": "markdown",
   "id": "0720f403",
   "metadata": {},
   "source": [
    "## Pre-Processed Data"
   ]
  },
  {
   "cell_type": "code",
   "execution_count": 25,
   "id": "864c5c3c",
   "metadata": {},
   "outputs": [],
   "source": [
    "# We can basically re-write the before code with the following:\n",
    "df = CommonPreProcessing(df).pre_process()\n",
    "df = PricePreProcessing(df).pre_process()"
   ]
  },
  {
   "cell_type": "code",
   "execution_count": 26,
   "id": "46396d0c",
   "metadata": {},
   "outputs": [],
   "source": [
    "df_into_csv_gzip(df, '../shared/data/amz_products_small_pre_processed')"
   ]
  }
 ],
 "metadata": {
  "kernelspec": {
   "display_name": "Python 3 (ipykernel)",
   "language": "python",
   "name": "python3"
  },
  "language_info": {
   "codemirror_mode": {
    "name": "ipython",
    "version": 3
   },
   "file_extension": ".py",
   "mimetype": "text/x-python",
   "name": "python",
   "nbconvert_exporter": "python",
   "pygments_lexer": "ipython3",
   "version": "3.9.12"
  }
 },
 "nbformat": 4,
 "nbformat_minor": 5
}
