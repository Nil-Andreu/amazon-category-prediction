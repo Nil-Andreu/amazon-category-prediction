{
 "cells": [
  {
   "cell_type": "code",
   "execution_count": 1,
   "id": "4e3c5220",
   "metadata": {},
   "outputs": [],
   "source": [
    "import re\n",
    "import typing\n",
    "import numpy as np\n",
    "import pandas as pd\n",
    "from PIL import Image\n",
    "\n",
    "import matplotlib.pyplot as plt\n",
    "\n",
    "%matplotlib inline"
   ]
  },
  {
   "cell_type": "code",
   "execution_count": 2,
   "id": "a298d8fd",
   "metadata": {},
   "outputs": [],
   "source": [
    "import sys\n",
    "sys.path.append('../')"
   ]
  },
  {
   "cell_type": "code",
   "execution_count": null,
   "id": "d08e287d",
   "metadata": {},
   "outputs": [],
   "source": [
    "from shared.utils.images.extractor import ImageExtractor\n",
    "from shared.utils.common import get_list_from_text_tuple\n",
    "from shared.model.data.features.embedding.image import ImageGroupEmbedding"
   ]
  },
  {
   "cell_type": "code",
   "execution_count": 5,
   "id": "cb12b896",
   "metadata": {},
   "outputs": [
    {
     "name": "stdout",
     "output_type": "stream",
     "text": [
      "Collecting aiofiles\n",
      "  Using cached aiofiles-23.1.0-py3-none-any.whl (14 kB)\n",
      "Installing collected packages: aiofiles\n",
      "Successfully installed aiofiles-23.1.0\n",
      "Note: you may need to restart the kernel to use updated packages.\n"
     ]
    }
   ],
   "source": [
    "%pip install aiofiles"
   ]
  },
  {
   "cell_type": "code",
   "execution_count": null,
   "id": "dd7b7324",
   "metadata": {},
   "outputs": [],
   "source": [
    "PATH_TO_IMAGE_FOLDER: str = '../shared/data/images'"
   ]
  },
  {
   "cell_type": "markdown",
   "id": "a8087d1b",
   "metadata": {},
   "source": [
    "## Loading Data"
   ]
  },
  {
   "cell_type": "code",
   "execution_count": null,
   "id": "54e89209",
   "metadata": {},
   "outputs": [],
   "source": [
    "df = pd.read_csv(\n",
    "    '../shared/data/amz_products_small_pre_processed.csv.gz', \n",
    "    compression='gzip'\n",
    ")"
   ]
  },
  {
   "cell_type": "markdown",
   "id": "0b48e5ea",
   "metadata": {},
   "source": [
    "## Visualizing some Image"
   ]
  },
  {
   "cell_type": "code",
   "execution_count": null,
   "id": "e110d631",
   "metadata": {},
   "outputs": [],
   "source": [
    "df.head()"
   ]
  },
  {
   "cell_type": "code",
   "execution_count": null,
   "id": "8a4a2c74",
   "metadata": {},
   "outputs": [],
   "source": [
    "df_images = df[~df['image'].isnull()]"
   ]
  },
  {
   "cell_type": "code",
   "execution_count": null,
   "id": "e0c0c536",
   "metadata": {},
   "outputs": [],
   "source": [
    "image_extractor = ImageExtractor(PATH_TO_IMAGE_FOLDER)\n",
    "\n",
    "file_paths = []\n",
    "for image_urls in df_images.loc[:20, 'image'].values:\n",
    "    \n",
    "    file_paths += await image_extractor.extraction_and_save_image_urls(image_urls=image_urls)"
   ]
  },
  {
   "cell_type": "code",
   "execution_count": null,
   "id": "b45525e8",
   "metadata": {},
   "outputs": [],
   "source": [
    "fig, axs = plt.subplots(1, len(file_paths), figsize=(12, 6))\n",
    "axs = axs.flatten()\n",
    "\n",
    "for img, ax in zip(file_paths, axs):\n",
    "    ax.imshow(Image.open(img, 'r'))\n",
    "    ax.set_xticks([])\n",
    "    ax.set_yticks([])\n",
    "    \n",
    "plt.show()"
   ]
  },
  {
   "cell_type": "markdown",
   "id": "27263c82",
   "metadata": {},
   "source": [
    "We can see that for this case, all are automotive products."
   ]
  },
  {
   "cell_type": "markdown",
   "id": "f3b3a82d",
   "metadata": {},
   "source": [
    "## Image Embeddings"
   ]
  },
  {
   "cell_type": "markdown",
   "id": "a30d002f",
   "metadata": {},
   "source": [
    "For each row we might have none, one or multiple images.\n",
    "\n",
    "We are going to extract the image embeddings of them (and if there are multiple, going ot apply a mean of their embeddings)."
   ]
  },
  {
   "cell_type": "code",
   "execution_count": null,
   "id": "b7ad3f57",
   "metadata": {},
   "outputs": [],
   "source": [
    "image_group_embedding = ImageGroupEmbedding(\n",
    "    source_folder=PATH_TO_IMAGE_FOLDER\n",
    ")"
   ]
  },
  {
   "cell_type": "code",
   "execution_count": null,
   "id": "83b0f998",
   "metadata": {},
   "outputs": [],
   "source": [
    "image_group_text = df_images.image.values[150000]\n",
    "image_group_text"
   ]
  },
  {
   "cell_type": "code",
   "execution_count": null,
   "id": "87c05a79",
   "metadata": {},
   "outputs": [],
   "source": [
    "# And we can identify all these different images\n",
    "get_list_from_text_tuple(image_group_text)"
   ]
  },
  {
   "cell_type": "markdown",
   "id": "92690950",
   "metadata": {},
   "source": [
    "And we can effectively get the embeddings for those images:\n",
    "1. Extraction of the images (if not already existent in the local file system)\n",
    "2. Batch processing of the images through the model\n",
    "3. Average the embeddings obtained"
   ]
  },
  {
   "cell_type": "code",
   "execution_count": null,
   "id": "74f3e0d8",
   "metadata": {},
   "outputs": [],
   "source": [
    "image_embedding = await image_group_embedding.get_image_group_embedding(image_group_text)\n",
    "image_embedding"
   ]
  }
 ],
 "metadata": {
  "kernelspec": {
   "display_name": "Python 3 (ipykernel)",
   "language": "python",
   "name": "python3"
  },
  "language_info": {
   "codemirror_mode": {
    "name": "ipython",
    "version": 3
   },
   "file_extension": ".py",
   "mimetype": "text/x-python",
   "name": "python",
   "nbconvert_exporter": "python",
   "pygments_lexer": "ipython3",
   "version": "3.9.12"
  },
  "vscode": {
   "interpreter": {
    "hash": "d76214a916f72574de06de01980b00d6a9865d448acfe6e912b438899c6e69ed"
   }
  }
 },
 "nbformat": 4,
 "nbformat_minor": 5
}
